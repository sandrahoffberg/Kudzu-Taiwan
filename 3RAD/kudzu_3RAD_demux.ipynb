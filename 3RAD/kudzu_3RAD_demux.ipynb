{
 "cells": [
  {
   "cell_type": "markdown",
   "metadata": {},
   "source": [
    "# Analyzing 3RAD data from Asian kudzu "
   ]
  },
  {
   "cell_type": "code",
   "execution_count": 10,
   "metadata": {},
   "outputs": [],
   "source": [
    "import ipyrad as ip\n",
    "import ipyrad.analysis as ipa\n",
    "import pandas as pd\n",
    "import ipyparallel as ipp"
   ]
  },
  {
   "cell_type": "code",
   "execution_count": 11,
   "metadata": {},
   "outputs": [
    {
     "name": "stdout",
     "output_type": "stream",
     "text": [
      "host compute node: [24 cores] on t067\n"
     ]
    }
   ],
   "source": [
    "# connect to parallel client\n",
    "ipyclient = ipp.Client()\n",
    "ip.cluster_info(ipyclient)"
   ]
  },
  {
   "cell_type": "markdown",
   "metadata": {},
   "source": [
    "### 1. Read in the data files\n",
    "\n",
    "The internal barcodes are dual indexed, meaning the combination of barcodes attached to R1 and R2 identify samples, \n",
    "so the barcodes file lists two barcodes for each sample.  \n",
    "Plates a identified by i7 and i5, so were demultiplexed in bcl2fastq2 v.2.20.0.422.\n",
    "They do not have PCR duplicate identifiers."
   ]
  },
  {
   "cell_type": "code",
   "execution_count": 4,
   "metadata": {},
   "outputs": [],
   "source": [
    "BARCODES_US1 = \"/moto/eaton/users/slh2181/Pmontana/illumina_runs/US1_Innerbarcodes.txt\"\n",
    "BARCODES_US2 = \"/moto/eaton/users/slh2181/Pmontana/illumina_runs/US2_Innerbarcodes.txt\"\n",
    "BARCODES_Native1 = \"/moto/eaton/users/slh2181/Pmontana/illumina_runs/Native1_Innerbarcodes.txt\"\n",
    "BARCODES_Native2 = \"/moto/eaton/users/slh2181/Pmontana/illumina_runs/Native2_Innerbarcodes.txt\"\n",
    "BARCODES_Native3 = \"/moto/eaton/users/slh2181/Pmontana/illumina_runs/Native3_Innerbarcodes.txt\"\n",
    "BARCODES_Native4 = \"/moto/eaton/users/slh2181/Pmontana/illumina_runs/Native4_Innerbarcodes.txt\"\n",
    "BARCODES_Native5 = \"/moto/eaton/users/slh2181/Pmontana/illumina_runs/Native5_Innerbarcodes.txt\"\n",
    "BARCODES_Native6 = \"/moto/eaton/users/slh2181/Pmontana/illumina_runs/Native6_Innerbarcodes.txt\"\n",
    "READS_US1 = \"/moto/eaton/users/slh2181/Pmontana/illumina_runs/NS_Kerin_US1_S6_R*.gz\"\n",
    "READS_US2 = \"/moto/eaton/users/slh2181/Pmontana/illumina_runs/NS_Kerin_US2_S7_R*.gz\"\n",
    "READS_Native1 = \"/moto/eaton/users/slh2181/Pmontana/illumina_runs/NS_Kerin_Native1_S8_R*.gz\"\n",
    "READS_Native2 = \"/moto/eaton/users/slh2181/Pmontana/illumina_runs/NS_Kerin_Native2_S9_R*.gz\"\n",
    "READS_Native3 = \"/moto/eaton/users/slh2181/Pmontana/illumina_runs/NS_Kerin_Native3_S1_R*.gz\"\n",
    "READS_Native4 = \"/moto/eaton/users/slh2181/Pmontana/illumina_runs/NS_Kerin_Native4_S2_R*.gz\"\n",
    "READS_Native5 = \"/moto/eaton/users/slh2181/Pmontana/illumina_runs/NS_Kerin_Native5_S3_R*.gz\"\n",
    "READS_Native6 = \"/moto/eaton/users/slh2181/Pmontana/illumina_runs/NS_Kerin_Native6_S4_R*.gz\""
   ]
  },
  {
   "cell_type": "code",
   "execution_count": 6,
   "metadata": {},
   "outputs": [
    {
     "name": "stdout",
     "output_type": "stream",
     "text": [
      "AL12-10KA\tCCGAAT   \tCTAACG\t\r",
      "\r\n",
      "AL12-12KA\tTTAGGCA\t    CTAACG\t\r",
      "\r\n",
      "AL12-14KA\tAACTCGTC\tCTAACG\t\r",
      "\r\n",
      "AL12-16KA\tGGTCTACGT\tCTAACG\t\r",
      "\r\n",
      "AL12-18KA\tGATACC\t\tCTAACG\r",
      "\r\n",
      "AL12-19KA\tAGCGTTG\t    CTAACG\t\r",
      "\r\n",
      "AL12-1KA\tCTGCAACT\tCTAACG\t\r",
      "\r\n",
      "AL12-22KA\tTCATGGTCA\tCTAACG\t\r",
      "\r\n",
      "AL12-5KA\tCCGAAT  \tTCGGTAC\t\r",
      "\r\n",
      "AL12-6KA\tTTAGGCA\t    TCGGTAC\t\r",
      "\r\n"
     ]
    }
   ],
   "source": [
    "! head -n 10 $BARCODES_US1"
   ]
  },
  {
   "cell_type": "markdown",
   "metadata": {},
   "source": [
    "### 2. Demultiplex Sequenced Run 2 on internal indices\n",
    "This run was sequenced at UGA, tracking ID: 126984 and 126985 . We now pass all 8 plates and barcode files separately to step 1 of ipyrad to demultiplex to samples. \n"
   ]
  },
  {
   "cell_type": "markdown",
   "metadata": {},
   "source": [
    "Plate US1"
   ]
  },
  {
   "cell_type": "code",
   "execution_count": 19,
   "metadata": {},
   "outputs": [
    {
     "name": "stdout",
     "output_type": "stream",
     "text": [
      "New Assembly: demux_US1\n"
     ]
    }
   ],
   "source": [
    "# create an Assembly object with a barcodes file\n",
    "US1 = ip.Assembly(\"demux_US1\")\n",
    "US1.params.project_dir = \"/moto/eaton/users/slh2181/Pmontana/ipyrad/\"\n",
    "US1.params.barcodes_path = BARCODES_US1\n",
    "US1.params.raw_fastq_path = READS_US1\n",
    "US1.params.datatype = \"pair3rad\"\n",
    "US1.params.restriction_overhang = (\"GCTAGA\", \"TAATTC\")"
   ]
  },
  {
   "cell_type": "code",
   "execution_count": 20,
   "metadata": {},
   "outputs": [
    {
     "name": "stdout",
     "output_type": "stream",
     "text": [
      "Parallelization: t041: 24 cores\n",
      "[                    ]   0% 0:34:15 | sorting reads        | s1 |"
     ]
    },
    {
     "name": "stderr",
     "output_type": "stream",
     "text": [
      "IOPub message rate exceeded.\n",
      "The notebook server will temporarily stop sending output\n",
      "to the client in order to avoid crashing it.\n",
      "To change this limit, set the config variable\n",
      "`--NotebookApp.iopub_msg_rate_limit`.\n",
      "\n",
      "Current values:\n",
      "NotebookApp.iopub_msg_rate_limit=1000.0 (msgs/sec)\n",
      "NotebookApp.rate_limit_window=3.0 (secs)\n",
      "\n"
     ]
    },
    {
     "name": "stdout",
     "output_type": "stream",
     "text": [
      "[######              ]  32% 0:16:32 | writing/compressing  | s1 |"
     ]
    },
    {
     "name": "stderr",
     "output_type": "stream",
     "text": [
      "IOPub message rate exceeded.\n",
      "The notebook server will temporarily stop sending output\n",
      "to the client in order to avoid crashing it.\n",
      "To change this limit, set the config variable\n",
      "`--NotebookApp.iopub_msg_rate_limit`.\n",
      "\n",
      "Current values:\n",
      "NotebookApp.iopub_msg_rate_limit=1000.0 (msgs/sec)\n",
      "NotebookApp.rate_limit_window=3.0 (secs)\n",
      "\n"
     ]
    },
    {
     "name": "stdout",
     "output_type": "stream",
     "text": [
      "[####################] 100% 0:40:15 | writing/compressing  | s1 |\n"
     ]
    }
   ],
   "source": [
    "# run demultiplexing of plate US1\n",
    "US1.run('1', auto=True, force=True)"
   ]
  },
  {
   "cell_type": "code",
   "execution_count": 21,
   "metadata": {
    "scrolled": true
   },
   "outputs": [
    {
     "data": {
      "text/html": [
       "<div>\n",
       "<style scoped>\n",
       "    .dataframe tbody tr th:only-of-type {\n",
       "        vertical-align: middle;\n",
       "    }\n",
       "\n",
       "    .dataframe tbody tr th {\n",
       "        vertical-align: top;\n",
       "    }\n",
       "\n",
       "    .dataframe thead th {\n",
       "        text-align: right;\n",
       "    }\n",
       "</style>\n",
       "<table border=\"1\" class=\"dataframe\">\n",
       "  <thead>\n",
       "    <tr style=\"text-align: right;\">\n",
       "      <th></th>\n",
       "      <th>state</th>\n",
       "      <th>reads_raw</th>\n",
       "    </tr>\n",
       "  </thead>\n",
       "  <tbody>\n",
       "    <tr>\n",
       "      <th>AL12-10KA</th>\n",
       "      <td>1</td>\n",
       "      <td>560055</td>\n",
       "    </tr>\n",
       "    <tr>\n",
       "      <th>AL12-12KA</th>\n",
       "      <td>1</td>\n",
       "      <td>74057</td>\n",
       "    </tr>\n",
       "    <tr>\n",
       "      <th>AL12-14KA</th>\n",
       "      <td>1</td>\n",
       "      <td>33215</td>\n",
       "    </tr>\n",
       "    <tr>\n",
       "      <th>AL12-16KA</th>\n",
       "      <td>1</td>\n",
       "      <td>68335</td>\n",
       "    </tr>\n",
       "    <tr>\n",
       "      <th>AL12-18KA</th>\n",
       "      <td>1</td>\n",
       "      <td>961431</td>\n",
       "    </tr>\n",
       "  </tbody>\n",
       "</table>\n",
       "</div>"
      ],
      "text/plain": [
       "           state  reads_raw\n",
       "AL12-10KA      1     560055\n",
       "AL12-12KA      1      74057\n",
       "AL12-14KA      1      33215\n",
       "AL12-16KA      1      68335\n",
       "AL12-18KA      1     961431"
      ]
     },
     "execution_count": 21,
     "metadata": {},
     "output_type": "execute_result"
    }
   ],
   "source": [
    "# show stats for a few samples in plate US1\n",
    "US1.stats.head()"
   ]
  },
  {
   "cell_type": "markdown",
   "metadata": {},
   "source": [
    "Plate US2"
   ]
  },
  {
   "cell_type": "code",
   "execution_count": 7,
   "metadata": {},
   "outputs": [
    {
     "name": "stdout",
     "output_type": "stream",
     "text": [
      "New Assembly: demux_US2\n"
     ]
    }
   ],
   "source": [
    "# create an Assembly object with a barcodes file\n",
    "US2 = ip.Assembly(\"demux_US2\")\n",
    "US2.params.project_dir = \"/moto/eaton/users/slh2181/Pmontana/ipyrad/\"\n",
    "US2.params.barcodes_path = BARCODES_US2\n",
    "US2.params.raw_fastq_path = READS_US2\n",
    "US2.params.datatype = \"pair3rad\"\n",
    "US2.params.restriction_overhang = (\"GCTAGA\", \"TAATTC\")"
   ]
  },
  {
   "cell_type": "code",
   "execution_count": 27,
   "metadata": {},
   "outputs": [
    {
     "name": "stdout",
     "output_type": "stream",
     "text": [
      "Parallelization: t041: 24 cores\n",
      "[####################] 100% 0:31:13 | sorting reads        | s1 |\n",
      "[######              ]  34% 0:14:35 | writing/compressing  | s1 |"
     ]
    },
    {
     "name": "stderr",
     "output_type": "stream",
     "text": [
      "Exception in callback BaseAsyncIOLoop._handle_events(50, 1)\n",
      "handle: <Handle BaseAsyncIOLoop._handle_events(50, 1)>\n",
      "Traceback (most recent call last):\n",
      "  File \"/moto/home/slh2181/miniconda3/lib/python3.6/asyncio/events.py\", line 145, in _run\n",
      "    self._callback(*self._args)\n",
      "  File \"/moto/home/slh2181/miniconda3/lib/python3.6/site-packages/tornado/platform/asyncio.py\", line 122, in _handle_events\n",
      "    handler_func(fileobj, events)\n",
      "  File \"/moto/home/slh2181/miniconda3/lib/python3.6/site-packages/tornado/stack_context.py\", line 300, in null_wrapper\n",
      "    return fn(*args, **kwargs)\n",
      "  File \"/moto/home/slh2181/miniconda3/lib/python3.6/site-packages/zmq/eventloop/zmqstream.py\", line 459, in _handle_events\n",
      "    self._rebuild_io_state()\n",
      "  File \"/moto/home/slh2181/miniconda3/lib/python3.6/site-packages/zmq/eventloop/zmqstream.py\", line 516, in _rebuild_io_state\n",
      "    self._update_handler(state)\n",
      "  File \"/moto/home/slh2181/miniconda3/lib/python3.6/site-packages/zmq/eventloop/zmqstream.py\", line 533, in _update_handler\n",
      "    if state & self.socket.events:\n",
      "  File \"/moto/home/slh2181/miniconda3/lib/python3.6/site-packages/zmq/sugar/attrsettr.py\", line 45, in __getattr__\n",
      "    return self._get_attr_opt(upper_key, opt)\n",
      "  File \"/moto/home/slh2181/miniconda3/lib/python3.6/site-packages/zmq/sugar/attrsettr.py\", line 49, in _get_attr_opt\n",
      "    return self.get(opt)\n",
      "  File \"zmq/backend/cython/socket.pyx\", line 477, in zmq.backend.cython.socket.Socket.get\n",
      "  File \"zmq/backend/cython/socket.pyx\", line 135, in zmq.backend.cython.socket._check_closed\n",
      "zmq.error.ZMQError: Socket operation on non-socket\n",
      "Exception in callback BaseAsyncIOLoop._handle_events(90, 1)\n",
      "handle: <Handle BaseAsyncIOLoop._handle_events(90, 1)>\n",
      "Traceback (most recent call last):\n",
      "  File \"/moto/home/slh2181/miniconda3/lib/python3.6/asyncio/events.py\", line 145, in _run\n",
      "    self._callback(*self._args)\n",
      "  File \"/moto/home/slh2181/miniconda3/lib/python3.6/site-packages/tornado/platform/asyncio.py\", line 122, in _handle_events\n",
      "    handler_func(fileobj, events)\n",
      "  File \"/moto/home/slh2181/miniconda3/lib/python3.6/site-packages/tornado/stack_context.py\", line 300, in null_wrapper\n",
      "    return fn(*args, **kwargs)\n",
      "  File \"/moto/home/slh2181/miniconda3/lib/python3.6/site-packages/zmq/eventloop/zmqstream.py\", line 459, in _handle_events\n",
      "    self._rebuild_io_state()\n",
      "  File \"/moto/home/slh2181/miniconda3/lib/python3.6/site-packages/zmq/eventloop/zmqstream.py\", line 516, in _rebuild_io_state\n",
      "    self._update_handler(state)\n",
      "  File \"/moto/home/slh2181/miniconda3/lib/python3.6/site-packages/zmq/eventloop/zmqstream.py\", line 533, in _update_handler\n",
      "    if state & self.socket.events:\n",
      "  File \"/moto/home/slh2181/miniconda3/lib/python3.6/site-packages/zmq/sugar/attrsettr.py\", line 45, in __getattr__\n",
      "    return self._get_attr_opt(upper_key, opt)\n",
      "  File \"/moto/home/slh2181/miniconda3/lib/python3.6/site-packages/zmq/sugar/attrsettr.py\", line 49, in _get_attr_opt\n",
      "    return self.get(opt)\n",
      "  File \"zmq/backend/cython/socket.pyx\", line 477, in zmq.backend.cython.socket.Socket.get\n",
      "  File \"zmq/backend/cython/socket.pyx\", line 135, in zmq.backend.cython.socket._check_closed\n",
      "zmq.error.ZMQError: Socket operation on non-socket\n",
      "Exception in callback BaseAsyncIOLoop._handle_events(69, 1)\n",
      "handle: <Handle BaseAsyncIOLoop._handle_events(69, 1)>\n",
      "Traceback (most recent call last):\n",
      "  File \"/moto/home/slh2181/miniconda3/lib/python3.6/asyncio/events.py\", line 145, in _run\n",
      "    self._callback(*self._args)\n",
      "  File \"/moto/home/slh2181/miniconda3/lib/python3.6/site-packages/tornado/platform/asyncio.py\", line 122, in _handle_events\n",
      "    handler_func(fileobj, events)\n",
      "  File \"/moto/home/slh2181/miniconda3/lib/python3.6/site-packages/tornado/stack_context.py\", line 300, in null_wrapper\n",
      "    return fn(*args, **kwargs)\n",
      "  File \"/moto/home/slh2181/miniconda3/lib/python3.6/site-packages/zmq/eventloop/zmqstream.py\", line 459, in _handle_events\n",
      "    self._rebuild_io_state()\n",
      "  File \"/moto/home/slh2181/miniconda3/lib/python3.6/site-packages/zmq/eventloop/zmqstream.py\", line 516, in _rebuild_io_state\n",
      "    self._update_handler(state)\n",
      "  File \"/moto/home/slh2181/miniconda3/lib/python3.6/site-packages/zmq/eventloop/zmqstream.py\", line 533, in _update_handler\n",
      "    if state & self.socket.events:\n",
      "  File \"/moto/home/slh2181/miniconda3/lib/python3.6/site-packages/zmq/sugar/attrsettr.py\", line 45, in __getattr__\n",
      "    return self._get_attr_opt(upper_key, opt)\n",
      "  File \"/moto/home/slh2181/miniconda3/lib/python3.6/site-packages/zmq/sugar/attrsettr.py\", line 49, in _get_attr_opt\n",
      "    return self.get(opt)\n",
      "  File \"zmq/backend/cython/socket.pyx\", line 477, in zmq.backend.cython.socket.Socket.get\n",
      "  File \"zmq/backend/cython/socket.pyx\", line 135, in zmq.backend.cython.socket._check_closed\n",
      "zmq.error.ZMQError: Socket operation on non-socket\n"
     ]
    },
    {
     "name": "stdout",
     "output_type": "stream",
     "text": [
      "[####################] 100% 0:46:50 | writing/compressing  | s1 |\n"
     ]
    }
   ],
   "source": [
    "# run demultiplexing of plate US2\n",
    "US2.run('1', auto=True, force=True)"
   ]
  },
  {
   "cell_type": "code",
   "execution_count": 8,
   "metadata": {},
   "outputs": [
    {
     "data": {
      "text/html": [
       "<div>\n",
       "<style scoped>\n",
       "    .dataframe tbody tr th:only-of-type {\n",
       "        vertical-align: middle;\n",
       "    }\n",
       "\n",
       "    .dataframe tbody tr th {\n",
       "        vertical-align: top;\n",
       "    }\n",
       "\n",
       "    .dataframe thead th {\n",
       "        text-align: right;\n",
       "    }\n",
       "</style>\n",
       "<table border=\"1\" class=\"dataframe\">\n",
       "  <thead>\n",
       "    <tr style=\"text-align: right;\">\n",
       "      <th></th>\n",
       "    </tr>\n",
       "  </thead>\n",
       "  <tbody>\n",
       "  </tbody>\n",
       "</table>\n",
       "</div>"
      ],
      "text/plain": [
       "Empty DataFrame\n",
       "Columns: []\n",
       "Index: []"
      ]
     },
     "execution_count": 8,
     "metadata": {},
     "output_type": "execute_result"
    }
   ],
   "source": [
    "# show stats for a few samples in plate US2\n",
    "US2.stats.head()"
   ]
  },
  {
   "cell_type": "markdown",
   "metadata": {},
   "source": [
    "Plate Native1"
   ]
  },
  {
   "cell_type": "code",
   "execution_count": 9,
   "metadata": {},
   "outputs": [
    {
     "name": "stdout",
     "output_type": "stream",
     "text": [
      "New Assembly: demux_Native1\n"
     ]
    }
   ],
   "source": [
    "# create an Assembly object with a barcodes file\n",
    "Native1 = ip.Assembly(\"demux_Native1\")\n",
    "Native1.params.project_dir = \"/moto/eaton/users/slh2181/Pmontana/ipyrad/\"\n",
    "Native1.params.barcodes_path = BARCODES_Native1\n",
    "Native1.params.raw_fastq_path = READS_Native1\n",
    "Native1.params.datatype = \"pair3rad\"\n",
    "Native1.params.restriction_overhang = (\"GCTAGA\", \"TAATTC\")"
   ]
  },
  {
   "cell_type": "code",
   "execution_count": 10,
   "metadata": {},
   "outputs": [
    {
     "name": "stdout",
     "output_type": "stream",
     "text": [
      "Parallelization: t041: 23 cores\n",
      "[####################] 100% 0:33:17 | sorting reads        | s1 |\n",
      "[####################] 100% 0:54:03 | writing/compressing  | s1 |\n"
     ]
    }
   ],
   "source": [
    "# run demultiplexing of plate Native1\n",
    "Native1.run('1', auto=True, force=True)"
   ]
  },
  {
   "cell_type": "code",
   "execution_count": null,
   "metadata": {},
   "outputs": [],
   "source": [
    "# show stats for a few samples in plate Native1\n",
    "Native1.stats.head()"
   ]
  },
  {
   "cell_type": "markdown",
   "metadata": {},
   "source": [
    "Plate Native2"
   ]
  },
  {
   "cell_type": "code",
   "execution_count": 5,
   "metadata": {},
   "outputs": [
    {
     "name": "stdout",
     "output_type": "stream",
     "text": [
      "New Assembly: demux_Native2\n"
     ]
    }
   ],
   "source": [
    "# create an Assembly object with a barcodes file\n",
    "Native2 = ip.Assembly(\"demux_Native2\")\n",
    "Native2.params.project_dir = \"/moto/eaton/users/slh2181/Pmontana/ipyrad/\"\n",
    "Native2.params.barcodes_path = BARCODES_Native2\n",
    "Native2.params.raw_fastq_path = READS_Native2\n",
    "Native2.params.datatype = \"pair3rad\"\n",
    "Native2.params.restriction_overhang = (\"GCTAGA\", \"TAATTC\")"
   ]
  },
  {
   "cell_type": "code",
   "execution_count": 6,
   "metadata": {},
   "outputs": [
    {
     "name": "stdout",
     "output_type": "stream",
     "text": [
      "Parallelization: t002: 22 cores\n",
      "[####################] 100% 0:29:52 | sorting reads        | s1 |\n",
      "[###                 ]  16% 0:06:59 | writing/compressing  | s1 |"
     ]
    },
    {
     "name": "stderr",
     "output_type": "stream",
     "text": [
      "IOPub message rate exceeded.\n",
      "The notebook server will temporarily stop sending output\n",
      "to the client in order to avoid crashing it.\n",
      "To change this limit, set the config variable\n",
      "`--NotebookApp.iopub_msg_rate_limit`.\n",
      "\n",
      "Current values:\n",
      "NotebookApp.iopub_msg_rate_limit=1000.0 (msgs/sec)\n",
      "NotebookApp.rate_limit_window=3.0 (secs)\n",
      "\n"
     ]
    },
    {
     "name": "stdout",
     "output_type": "stream",
     "text": [
      "[###########         ]  58% 0:29:49 | writing/compressing  | s1 |"
     ]
    },
    {
     "name": "stderr",
     "output_type": "stream",
     "text": [
      "IOPub message rate exceeded.\n",
      "The notebook server will temporarily stop sending output\n",
      "to the client in order to avoid crashing it.\n",
      "To change this limit, set the config variable\n",
      "`--NotebookApp.iopub_msg_rate_limit`.\n",
      "\n",
      "Current values:\n",
      "NotebookApp.iopub_msg_rate_limit=1000.0 (msgs/sec)\n",
      "NotebookApp.rate_limit_window=3.0 (secs)\n",
      "\n"
     ]
    }
   ],
   "source": [
    "# run demultiplexing of plate Native2\n",
    "Native2.run('1', auto=True, force=True)"
   ]
  },
  {
   "cell_type": "code",
   "execution_count": 7,
   "metadata": {},
   "outputs": [
    {
     "data": {
      "text/html": [
       "<div>\n",
       "<style scoped>\n",
       "    .dataframe tbody tr th:only-of-type {\n",
       "        vertical-align: middle;\n",
       "    }\n",
       "\n",
       "    .dataframe tbody tr th {\n",
       "        vertical-align: top;\n",
       "    }\n",
       "\n",
       "    .dataframe thead th {\n",
       "        text-align: right;\n",
       "    }\n",
       "</style>\n",
       "<table border=\"1\" class=\"dataframe\">\n",
       "  <thead>\n",
       "    <tr style=\"text-align: right;\">\n",
       "      <th></th>\n",
       "      <th>state</th>\n",
       "      <th>reads_raw</th>\n",
       "    </tr>\n",
       "  </thead>\n",
       "  <tbody>\n",
       "    <tr>\n",
       "      <th>KJP23-3A</th>\n",
       "      <td>1</td>\n",
       "      <td>696767</td>\n",
       "    </tr>\n",
       "    <tr>\n",
       "      <th>KJP23-5A</th>\n",
       "      <td>1</td>\n",
       "      <td>749738</td>\n",
       "    </tr>\n",
       "    <tr>\n",
       "      <th>KJP23-7A</th>\n",
       "      <td>1</td>\n",
       "      <td>429081</td>\n",
       "    </tr>\n",
       "    <tr>\n",
       "      <th>KJP25-10A</th>\n",
       "      <td>1</td>\n",
       "      <td>543394</td>\n",
       "    </tr>\n",
       "    <tr>\n",
       "      <th>KJP25-12A</th>\n",
       "      <td>1</td>\n",
       "      <td>243842</td>\n",
       "    </tr>\n",
       "  </tbody>\n",
       "</table>\n",
       "</div>"
      ],
      "text/plain": [
       "           state  reads_raw\n",
       "KJP23-3A       1     696767\n",
       "KJP23-5A       1     749738\n",
       "KJP23-7A       1     429081\n",
       "KJP25-10A      1     543394\n",
       "KJP25-12A      1     243842"
      ]
     },
     "execution_count": 7,
     "metadata": {},
     "output_type": "execute_result"
    }
   ],
   "source": [
    "# show stats for a few samples in plate Native2\n",
    "Native2.stats.head()"
   ]
  },
  {
   "cell_type": "markdown",
   "metadata": {},
   "source": [
    "Plate Native3"
   ]
  },
  {
   "cell_type": "code",
   "execution_count": 8,
   "metadata": {},
   "outputs": [
    {
     "name": "stdout",
     "output_type": "stream",
     "text": [
      "New Assembly: demux_Native3\n"
     ]
    }
   ],
   "source": [
    "# create an Assembly object with a barcodes file\n",
    "Native3 = ip.Assembly(\"demux_Native3\")\n",
    "Native3.params.project_dir = \"/moto/eaton/users/slh2181/Pmontana/ipyrad/\"\n",
    "Native3.params.barcodes_path = BARCODES_Native3\n",
    "Native3.params.raw_fastq_path = READS_Native3\n",
    "Native3.params.datatype = \"pair3rad\"\n",
    "Native3.params.restriction_overhang = (\"GCTAGA\", \"TAATTC\")"
   ]
  },
  {
   "cell_type": "code",
   "execution_count": null,
   "metadata": {},
   "outputs": [
    {
     "name": "stdout",
     "output_type": "stream",
     "text": [
      "Parallelization: t002: 24 cores\n",
      "[####################] 100% 0:26:11 | sorting reads        | s1 |\n",
      "[#################   ]  89% 0:47:22 | writing/compressing  | s1 |"
     ]
    }
   ],
   "source": [
    "# run demultiplexing of plate Native3\n",
    "Native3.run('1', auto=True, force=True)"
   ]
  },
  {
   "cell_type": "code",
   "execution_count": null,
   "metadata": {},
   "outputs": [],
   "source": [
    "# show stats for a few samples in plate Native3\n",
    "Native3.stats.head()"
   ]
  },
  {
   "cell_type": "markdown",
   "metadata": {},
   "source": [
    "Plate Native4"
   ]
  },
  {
   "cell_type": "code",
   "execution_count": 7,
   "metadata": {},
   "outputs": [
    {
     "name": "stdout",
     "output_type": "stream",
     "text": [
      "New Assembly: demux_US1\n"
     ]
    }
   ],
   "source": [
    "# create an Assembly object with a barcodes file\n",
    "Native4 = ip.Assembly(\"demux_Native4\")\n",
    "Native4.params.project_dir = \"/moto/eaton/users/slh2181/Pmontana/ipyrad/\"\n",
    "Native4.params.barcodes_path = BARCODES_Native4\n",
    "Native4.params.raw_fastq_path = READS_Native4\n",
    "Native4.params.datatype = \"pair3rad\"\n",
    "Native4.params.restriction_overhang = (\"GCTAGA\", \"TAATTC\")"
   ]
  },
  {
   "cell_type": "code",
   "execution_count": null,
   "metadata": {},
   "outputs": [
    {
     "name": "stdout",
     "output_type": "stream",
     "text": [
      "Parallelization: t041: 24 cores\n",
      "[                    ]   0% 0:00:39 | sorting reads        | s1 |"
     ]
    }
   ],
   "source": [
    "# run demultiplexing of plate Native4\n",
    "Native4.run('1', auto=True, force=True)"
   ]
  },
  {
   "cell_type": "code",
   "execution_count": null,
   "metadata": {},
   "outputs": [],
   "source": [
    "# show stats for a few samples in plate Native4\n",
    "Native4.stats.head()"
   ]
  },
  {
   "cell_type": "markdown",
   "metadata": {},
   "source": [
    "Plate Native5"
   ]
  },
  {
   "cell_type": "code",
   "execution_count": 7,
   "metadata": {},
   "outputs": [
    {
     "name": "stdout",
     "output_type": "stream",
     "text": [
      "New Assembly: demux_US1\n"
     ]
    }
   ],
   "source": [
    "# create an Assembly object with a barcodes file\n",
    "Native5 = ip.Assembly(\"demux_Native5\")\n",
    "Native5.params.project_dir = \"/moto/eaton/users/slh2181/Pmontana/ipyrad/\"\n",
    "Native5.params.barcodes_path = BARCODES_Native5\n",
    "Native5.params.raw_fastq_path = READS_Native5\n",
    "Native5.params.datatype = \"pair3rad\"\n",
    "Native5.params.restriction_overhang = (\"GCTAGA\", \"TAATTC\")"
   ]
  },
  {
   "cell_type": "code",
   "execution_count": null,
   "metadata": {},
   "outputs": [
    {
     "name": "stdout",
     "output_type": "stream",
     "text": [
      "Parallelization: t041: 24 cores\n",
      "[                    ]   0% 0:00:39 | sorting reads        | s1 |"
     ]
    }
   ],
   "source": [
    "# run demultiplexing of plate Native5\n",
    "Native5.run('1', auto=True, force=True)"
   ]
  },
  {
   "cell_type": "code",
   "execution_count": null,
   "metadata": {},
   "outputs": [],
   "source": [
    "# show stats for a few samples in plate Native5\n",
    "Native5.stats.head()"
   ]
  },
  {
   "cell_type": "markdown",
   "metadata": {},
   "source": [
    "Plate Native6"
   ]
  },
  {
   "cell_type": "code",
   "execution_count": 9,
   "metadata": {},
   "outputs": [
    {
     "name": "stdout",
     "output_type": "stream",
     "text": [
      "New Assembly: demux_Native6\n"
     ]
    }
   ],
   "source": [
    "# create an Assembly object with a barcodes file\n",
    "Native6 = ip.Assembly(\"demux_Native6\")\n",
    "Native6.params.project_dir = \"/moto/eaton/users/slh2181/Pmontana/ipyrad/\"\n",
    "Native6.params.barcodes_path = BARCODES_Native6\n",
    "Native6.params.raw_fastq_path = READS_Native6\n",
    "Native6.params.datatype = \"pair3rad\"\n",
    "Native6.params.restriction_overhang = (\"GCTAGA\", \"TAATTC\")"
   ]
  },
  {
   "cell_type": "code",
   "execution_count": 12,
   "metadata": {},
   "outputs": [
    {
     "name": "stdout",
     "output_type": "stream",
     "text": [
      "Parallelization: t067: 24 cores\n",
      "[                    ]   0% 0:18:52 | sorting reads        | s1 |"
     ]
    },
    {
     "name": "stderr",
     "output_type": "stream",
     "text": [
      "IOPub message rate exceeded.\n",
      "The notebook server will temporarily stop sending output\n",
      "to the client in order to avoid crashing it.\n",
      "To change this limit, set the config variable\n",
      "`--NotebookApp.iopub_msg_rate_limit`.\n",
      "\n",
      "Current values:\n",
      "NotebookApp.iopub_msg_rate_limit=1000.0 (msgs/sec)\n",
      "NotebookApp.rate_limit_window=3.0 (secs)\n",
      "\n"
     ]
    },
    {
     "name": "stdout",
     "output_type": "stream",
     "text": [
      "[####################] 100% 0:35:07 | sorting reads        | s1 |\n",
      "[######              ]  30% 0:18:58 | writing/compressing  | s1 |"
     ]
    },
    {
     "name": "stderr",
     "output_type": "stream",
     "text": [
      "IOPub message rate exceeded.\n",
      "The notebook server will temporarily stop sending output\n",
      "to the client in order to avoid crashing it.\n",
      "To change this limit, set the config variable\n",
      "`--NotebookApp.iopub_msg_rate_limit`.\n",
      "\n",
      "Current values:\n",
      "NotebookApp.iopub_msg_rate_limit=1000.0 (msgs/sec)\n",
      "NotebookApp.rate_limit_window=3.0 (secs)\n",
      "\n"
     ]
    },
    {
     "name": "stdout",
     "output_type": "stream",
     "text": [
      "[#############       ]  69% 0:40:53 | writing/compressing  | s1 |"
     ]
    },
    {
     "name": "stderr",
     "output_type": "stream",
     "text": [
      "IOPub message rate exceeded.\n",
      "The notebook server will temporarily stop sending output\n",
      "to the client in order to avoid crashing it.\n",
      "To change this limit, set the config variable\n",
      "`--NotebookApp.iopub_msg_rate_limit`.\n",
      "\n",
      "Current values:\n",
      "NotebookApp.iopub_msg_rate_limit=1000.0 (msgs/sec)\n",
      "NotebookApp.rate_limit_window=3.0 (secs)\n",
      "\n"
     ]
    },
    {
     "name": "stdout",
     "output_type": "stream",
     "text": [
      "[####################] 100% 1:00:45 | writing/compressing  | s1 |\n"
     ]
    }
   ],
   "source": [
    "# run demultiplexing of plate Native6\n",
    "Native6.run('1', auto=True, force=True)"
   ]
  },
  {
   "cell_type": "code",
   "execution_count": 13,
   "metadata": {},
   "outputs": [
    {
     "data": {
      "text/html": [
       "<div>\n",
       "<style scoped>\n",
       "    .dataframe tbody tr th:only-of-type {\n",
       "        vertical-align: middle;\n",
       "    }\n",
       "\n",
       "    .dataframe tbody tr th {\n",
       "        vertical-align: top;\n",
       "    }\n",
       "\n",
       "    .dataframe thead th {\n",
       "        text-align: right;\n",
       "    }\n",
       "</style>\n",
       "<table border=\"1\" class=\"dataframe\">\n",
       "  <thead>\n",
       "    <tr style=\"text-align: right;\">\n",
       "      <th></th>\n",
       "      <th>state</th>\n",
       "      <th>reads_raw</th>\n",
       "    </tr>\n",
       "  </thead>\n",
       "  <tbody>\n",
       "    <tr>\n",
       "      <th>AL12-10KA</th>\n",
       "      <td>1</td>\n",
       "      <td>636060</td>\n",
       "    </tr>\n",
       "    <tr>\n",
       "      <th>AL5-2KA</th>\n",
       "      <td>1</td>\n",
       "      <td>1134445</td>\n",
       "    </tr>\n",
       "    <tr>\n",
       "      <th>AR2-2KA</th>\n",
       "      <td>1</td>\n",
       "      <td>166164</td>\n",
       "    </tr>\n",
       "    <tr>\n",
       "      <th>GA36-6KA</th>\n",
       "      <td>1</td>\n",
       "      <td>803955</td>\n",
       "    </tr>\n",
       "    <tr>\n",
       "      <th>GA96-10KA</th>\n",
       "      <td>1</td>\n",
       "      <td>519621</td>\n",
       "    </tr>\n",
       "  </tbody>\n",
       "</table>\n",
       "</div>"
      ],
      "text/plain": [
       "           state  reads_raw\n",
       "AL12-10KA      1     636060\n",
       "AL5-2KA        1    1134445\n",
       "AR2-2KA        1     166164\n",
       "GA36-6KA       1     803955\n",
       "GA96-10KA      1     519621"
      ]
     },
     "execution_count": 13,
     "metadata": {},
     "output_type": "execute_result"
    }
   ],
   "source": [
    "# show stats for a few samples in plate Native6\n",
    "Native6.stats.head()"
   ]
  }
 ],
 "metadata": {
  "kernelspec": {
   "display_name": "Python 3",
   "language": "python",
   "name": "python3"
  },
  "language_info": {
   "codemirror_mode": {
    "name": "ipython",
    "version": 3
   },
   "file_extension": ".py",
   "mimetype": "text/x-python",
   "name": "python",
   "nbconvert_exporter": "python",
   "pygments_lexer": "ipython3",
   "version": "3.7.6"
  }
 },
 "nbformat": 4,
 "nbformat_minor": 2
}
