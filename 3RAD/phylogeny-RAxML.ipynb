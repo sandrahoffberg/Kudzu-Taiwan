{
 "cells": [
  {
   "cell_type": "markdown",
   "metadata": {},
   "source": [
    "# Make a maximum likelihood tree with 3RAD data for all Taiwan and nearby Chinese samples\n",
    "### Both individual samples and consensus sequences\n",
    "\n",
    "Last run: March 4, 2021"
   ]
  },
  {
   "cell_type": "code",
   "execution_count": 1,
   "metadata": {},
   "outputs": [
    {
     "name": "stdout",
     "output_type": "stream",
     "text": [
      "ipyrad 0.9.63\n"
     ]
    }
   ],
   "source": [
    "import ipyrad as ip\n",
    "import ipyrad.analysis as ipa\n",
    "import pandas as pd\n",
    "import toytree\n",
    "\n",
    "print('ipyrad', ipa.__version__)"
   ]
  },
  {
   "cell_type": "markdown",
   "metadata": {},
   "source": [
    "## Window extracter to make a tree with these data"
   ]
  },
  {
   "cell_type": "code",
   "execution_count": 2,
   "metadata": {},
   "outputs": [],
   "source": [
    "# first load the data file with no other arguments to see scaffold table\n",
    "data = \"/rigel/dsi/users/slh2181/Pmontana/kudzu91_noHC_min20_100Loci_outfiles/kudzu91_noHC_min20_100Loci.seqs.hdf5\"\n",
    "OUTDIR = \"/rigel/dsi/users/slh2181/Pmontana/Analysis/Taiwan\""
   ]
  },
  {
   "cell_type": "code",
   "execution_count": 3,
   "metadata": {},
   "outputs": [],
   "source": [
    "# group individuals into populations\n",
    "imap = { \n",
    "#\"AL12\": [\"AL12-10KA\",\"AL12-10KA\",\"AL12-12KA\",\"AL12-14KA\",\"AL12-16KA\",\"AL12-18KA\",\"AL12-19KA\",\"AL12-1KA\",\"AL12-5KA\",\"AL12-6KA\"],\n",
    "#\"AL5\": [\"AL5-11KA\",\"AL5-14KA\",\"AL5-15KA\",\"AL5-16KA\",\"AL5-18KA\",\"AL5-19KA\",\"AL5-1KA\",\"AL5-21KA\",\"AL5-2KA\",\"AL5-2KA\",\"AL5-5KA\"],\n",
    "#\"AR2\": [\"AR2-10KA\",\"AR2-18KA\",\"AR2-1KA\",\"AR2-22KA\",\"AR2-2KA\",\"AR2-2KA\",\"AR2-3KA\"],\n",
    "#\"FL3\": [\"FL3-17K\",\"FL3-1KA\",\"FL3-4KA\",\"FL3-7KA\",\"FL3-8K\"],\n",
    "#\"GA3\": [\"GA3-10K\",\"GA3-11K\",\"GA3-13K\",\"GA3-17K\",\"GA3-21K\",\"GA3-23K\",\"GA3-24K\"],\n",
    "#\"GA34\": [\"GA34-11A\",\"GA34-12A\",\"GA34-13A\",\"GA34-19A\",\"GA34-22A\",\"GA34-23A\",\"GA34-2A\",\"GA34-6A\",\"GA34-7A\",\"GA34-9A\"],\n",
    "#\"GA36\": [\"GA36-10KA\",\"GA36-13KA\",\"GA36-14KA\",\"GA36-21KA\",\"GA36-3KA\",\"GA36-6KA\",\"GA36-6KA\"],\n",
    "#\"GA3\": [\"GA3-7K\"],\n",
    "#\"GA96\": [\"GA96-10KA\",\"GA96-10KA\",\"GA96-11KA\",\"GA96-12KA\",\"GA96-14KA\",\"GA96-16KA\",\"GA96-20KA\",\"GA96-23KA\",\"GA96-2KA\",\"GA96-3KA\",\"GA96-4KA\",\"GA96-8KA\",\"GA96-9KA\"],\n",
    "#\"KY11\": [\"KY11-11KA\",\"KY11-11KA\",\"KY11-12KA\",\"KY11-13KA\",\"KY11-14KA\",\"KY11-16KA\",\"KY11-17KA\",\"KY11-20KA\",\"KY11-4KA\",\"KY11-7KA\",\"KY11-8KA\"],\n",
    "#\"KY7\": [\"KY7-12KC\",\"KY7-14KC\",\"KY7-17KC\",\"KY7-20KC\",\"KY7-20KC\",\"KY7-8KC\"],\n",
    "#\"KY8\": [\"KY8-12KB\",\"KY8-13KB\",\"KY8-14KB\",\"KY8-17KB\",\"KY8-1KB\",\"KY8-22KC\",\"KY8-23KC\",\"KY8-24KC\",\"KY8-7KB\",\"KY8-8KB\"],\n",
    "#\"NY4\": [\"NY4-18K\",\"NY4-1K\",\"NY4-1K\",\"NY4-23K\",\"NY4-4K\",\"NY4-9K\"],\n",
    "#\"OK1\": [\"OK1-10KA\",\"OK1-15KA\",\"OK1-20KA\",\"OK1-24K\",\"OK1-24K\",\"OK1-5KA\"],\n",
    "#\"SC4\": [\"SC4-11K\",\"SC4-11K\",\"SC4-15KB\",\"SC4-17KB\",\"SC4-18KB\",\"SC4-20KB\",\"SC4-22K\",\"SC4-2KA\",\"SC4-3K\",\"SC4-4K\",\"SC4-5K\",\"SC4-9K\"],\n",
    "#\"TN6\": [\"TN6-11K\",\"TN6-15KA\",\"TN6-1K\",\"TN6-21K\",\"TN6-24K\",\"TN6-2K\",\"TN6-9K\"],\n",
    "#\"TN8\": [\"TN8-10KA\",\"TN8-10KA\",\"TN8-11KA\",\"TN8-13KA\",\"TN8-14KA\",\"TN8-15KA\",\"TN8-20KA\",\"TN8-23KA\",\"TN8-24KA\",\"TN8-27KA\",\"TN8-3KA\",\"TN8-9KA\"],\n",
    "#\"TX4\": [\"TX4-10KA\",\"TX4-11KA\",\"TX4-13KA\",\"TX4-14KA\",\"TX4-19KA\",\"TX4-1KA\",\"TX4-20KA\",\"TX4-21A\",\"TX4-21A\",\"TX4-21KA\",\"TX4-2KA\",\"TX4-3KA\",\"TX4-7KA\"],\n",
    "#\"TX5\": [\"TX5-10KA\",\"TX5-10KA\",\"TX5-11KA\",\"TX5-14KA\",\"TX5-15KA\",\"TX5-17KA\",\"TX5-1KA\",\"TX5-24KA\",\"TX5-25KA\",\"TX5-7KA\",\"TX5-8KA\"],\n",
    "#\"WV1\": [\"WV1-12KA\",\"WV1-19KAC1\",\"WV1-20KA\",\"WV1-20KA\",\"WV1-21KAC\",\"WV1-22K\",\"WV1-23KAC\",\"WV1-24KAC\",\"WV1-7KAC1\",\"WV1-8KAC1\"],\n",
    "#\"MD1\": [\"MD1-10K\",\"MD1-11K\",\"MD1-12K\",\"MD1-18K\",\"MD1-19K\",\"MD1-1K\",\"MD1-22K\",\"MD1-24K\",\"MD1-4K\",\"MD1-9K\"],\n",
    "#\"MO1\": [\"MO1-14KA\",\"MO1-1KA\",\"MO-18KA\"],\n",
    "#\"MS4\": [\"MS4-12KA\",\"MS4-12KA\",\"MS4-16KA\",\"MS4-17KA\",\"MS4-1KA\",\"MS4-20KA\",\"MS4-23KA\",\"MS4-24KA\",\"MS4-5KA\",\"MS4-6KA\",\"MS4-7KA\"],\n",
    "#\"MS6\": [\"MS6-11KA\",\"MS6-15KA\",\"MS6-21KA\",\"MS6-21KA\",\"MS6-3KB\",\"MS6-4KA\",\"MS6-5KA\",\"MS6-7KB\",\"MS6-8KB\"],\n",
    "#\"NC13\": [\"NC13-15KA\",\"NC13-15KA\",\"NC13-16KA\",\"NC13-19KA\",\"NC13-1KA\",\"NC13-21KA\",\"NC13-24KA\",\"NC13-2KA\",\"NC13-6KA\",\"NC13-8KA\"],\n",
    "#\"NC20\": [\"NC20-14KA\",\"NC20-14KA\",\"NC20-15KA\",\"NC20-17KA\",\"NC20-18KA\",\"NC20-1KA\",\"NC20-25KA\",\"NC20-26KAMS\",\"NC20-28KAMS\",\"NC20-34KAMS\",\"NC20-3KA\",\"NC20-7KA\"],\n",
    "#\"NC21\": [\"NC21-10K\",\"NC21-10K\",\"NC21-11K\",\"NC21-1K\",\"NC21-8K\",\"NC21-9K\"],\n",
    "#\"NC3\": [\"NC3-14K\",\"NC3-14K\",\"NC3-15K\",\"NC3-16K\",\"NC3-17K\",\"NC3-19K\",\"NC3-22K\",\"NC3-24K\",\"NC3-4K\",\"NC3-5K\",\"NC3-6K\",\"NC3-9K\"],\n",
    "#\"NC6\": [\"NC6-11KA\",\"NC6-11KA\",\"NC6-15KA\",\"NC6-19KA\",\"NC6-1KA\",\"NC6-24KA\",\"NC6-25KA\",\"NC6-2KA\",\"NC6-5KA\",\"NC6-6KA\",\"NC6-7KA\",\"NC6-9K\"],\n",
    "#\"NE1\": [\"NE1-1A\",\"NE1-2A\",\"NE1-3A\",\"NE1-4A\",\"NE1-5A\"],\n",
    "#\"KJP11\": [\"KJP11-10A\",\"KJP11-10A\",\"KJP11-13A\",\"KJP11-16A\",\"KJP11-18A\",\"KJP11-20A\",\"KJP11-21A\",\"KJP11-22A\",\"KJP11-3A\",\"KJP11-5A\",\"KJP11-7A\"],\n",
    "#\"KJP14\": [\"KJP14-11A\",\"KJP14-11A\",\"KJP14-12A\",\"KJP14-14A\",\"KJP14-15A\",\"KJP14-17A\",\"KJP14-19A\",\"KJP14-1A\",\"KJP14-20A\",\"KJP14-3A\",\"KJP14-8A\"],\n",
    "#\"KJP17\": [\"KJP17-11A\",\"KJP17-12A\",\"KJP17-19A\",\"KJP17-1A\",\"KJP17-23A\"],\n",
    "#\"KJP18\": [\"KJP18-10A\",\"KJP18-10A\",\"KJP18-11A\",\"KJP18-13A\",\"KJP18-17A\",\"KJP18-1A\",\"KJP18-21A\",\"KJP18-24A\",\"KJP18-25\",\"KJP18-4A\",\"KJP18-9A\"],\n",
    "#\"KJP2\": [\"KJP2-11A\",\"KJP2-16A\",\"KJP2-17A\",\"KJP2-18A\",\"KJP2-1A\",\"KJP2-22A\",\"KJP2-23A\",\"KJP22-5A\",\"KJP2-25A\",\"KJP22-9A\",\"KJP2-2A\"],\n",
    "#\"KJP22\": [\"KJP22-10A\",\"KJP22-14A\",\"KJP22-17A\",\"KJP22-18A\",\"KJP22-19A\",\"KJP22-21A\",\"KJP22-22A\",\"KJP22-23A\",\"KJP2-22A\",\"KJP2-23A\",\"KJP22-5A\",\"KJP2-25A\",\"KJP22-9A\"],\n",
    "#\"KJP23\": [\"KJP23-10A\",\"KJP23-10A\",\"KJP23-12A\",\"KJP23-13A\",\"KJP23-18A\",\"KJP23-19A\",\"KJP23-1A\",\"KJP23-3A\",\"KJP23-3A\",\"KJP23-4A\",\"KJP23-5A\",\"KJP23-7A\"],\n",
    "#\"KJP25\": [\"KJP25-10A\",\"KJP25-12A\",\"KJP25-15A\",\"KJP25-16A\",\"KJP25-19A\",\"KJP25-22A\",\"KJP25-22A\",\"KJP25-23A\",\"KJP25-25A\",\"KJP25-4A\",\"KJP25-6A\"],\n",
    "#\"KJP27\": [\"KJP27-11A\",\"KJP27-14A\",\"KJP27-18A\",\"KJP27-1A\",\"KJP27-22A\",\"KJP27-24A\",\"KJP27-6A\",\"KJP27-8A\",\"KJP27-9A\"],\n",
    "#\"KJP3\": [\"KJP3-11A\",\"KJP3-11A\",\"KJP3-12A\",\"KJP3-13A\",\"KJP3-16A\",\"KJP3-17A\",\"KJP3-20A\",\"KJP3-21A\",\"KJP3-22A\",\"KJP3-2A\",\"KJP3-3A\"],\n",
    "#\"KJP5\": [\"KJP5-14A\",\"KJP5-15A\",\"KJP5-19A\",\"KJP5-1A\",\"KJP5-23A\",\"KJP5-4\",\"KJP5-5\",\"KJP5-6\",\"KJP5-7A\",\"KJP5-9A\"],\n",
    "#\"KJP8\": [\"KJP8-11A\",\"KJP8-13A\",\"KJP8-17A\",\"KJP8-18A\",\"KJP8-1A\",\"KJP8-20A\",\"KJP8-23A\",\"KJP8-5A\",\"KJP8-7A\",\"KJP8-8A\"],\n",
    "#\"KKO19\": [\"KKO19-11\",\"KKO19-11A\",\"KKO19-12\",\"KKO19-13\",\"KKO19-18\",\"KKO19-1A\",\"KKO19-21\",\"KKO19-22\",\"KKO19-23\",\"KKO19-4A\",\"KKO19-9A\"],\n",
    "#\"KKO22\": [\"KKO22-10\",\"KKO22-10B\",\"KKO22-11\",\"KKO22-12\",\"KKO22-16\",\"KKO22-19\",\"KKO22-1A\",\"KKO22-23\",\"KKO22-24\",\"KKO22-4B\",\"KKO22-6B\"],\n",
    "#\"KKO3\": [\"KKO3-10A\",\"KKO3-10A\",\"KKO3-11A\",\"KKO3-12A\",\"KKO3-14A\",\"KKO3-15A\",\"KKO3-19A\",\"KKO3-1A\",\"KKO3-20A\",\"KKO3-21A\",\"KKO3-3A\"],\n",
    "#\"KKO5\": [\"KKO5-10A\",\"KKO5-10A\",\"KKO5-13A\",\"KKO5-14A\",\"KKO5-18A\",\"KKO5-19A\",\"KKO5-21A\",\"KKO-5-22A\",\"KKO5-24A\",\"KKO5-2A\",\"KKO5-3A\"],\n",
    "#\"KKO6\": [\"KKO6-10\",\"KKO6-10\",\"KKO6-13\",\"KKO6-16\",\"KKO6-2\",\"KKO6-23\",\"KKO6-4\",\"KKO6-6\",\"KKO6-7\",\"KKO6-8\",\"KKO6-9\"],\n",
    "#\"KLN1\": [\"KLN1-13KB\",\"KLN1-18KB\",\"KLN1-1KB\"],\n",
    "#\"KLN2\": [\"KLN2-1A\",\"KLN2-1A\",\"KLN2-2A\",\"KLN2-3A\",\"KLN2-4A\",\"KLN2-5A\"],\n",
    "#\"KSA1\": [\"KSA1-10A\",\"KSA1-10A\",\"KSA1-11\",\"KSA1-12\",\"KSA1-14\",\"KSA1-18\",\"KSA1-1A\",\"KSA1-2\",\"KSA1-21\",\"KSA1-22\",\"KSA1-24\"],\n",
    "#\"KSA2\": [\"KSA2-10A\",\"KSA2-10A\",\"KSA2-12\",\"KSA2-13\",\"KSA2-14\",\"KSA2-15\",\"KSA2-16\",\"KSA2-19\",\"KSA2-20\",\"KSA2-22\",\"KSA2-27\"],\n",
    "#\"KSA3\": [\"KSA3-11A\",\"KSA3-12A\",\"KSA3-13A\",\"KSA3-14A\",\"KSA3-15A\",\"KSA3-19A\",\"KSA3-1A\",\"KSA3-3A\",\"KSA3-5A\",\"KSA3-8A\"],\n",
    "#\"KSC1\": [\"KSC1-11A\",\"KSC1-14A\",\"KSC1-19A\",\"KSC1-20A\",\"KSC1-21A\",\"KSC1-22A\",\"KSC1-24A\",\"KSC1-6A\",\"KSC1-7A\",\"KSC1-8A\"],\n",
    "#\"KSC4\": [\"KSC4-10KB\",\"KSC4-12KB\",\"KSC4-16KB\",\"KSC4-1KB\",\"KSC4-20KB\",\"KSC4-21KB\",\"KSC4-5KB\",\"KSC4-6KB\",\"KSC4-7KB\",\"KSC4-8KB\"],\n",
    "#\"KSD1\": [\"KSD1-10\",\"KSD1-10\",\"KSD1-12\",\"KSD1-13\",\"KSD1-14\",\"KSD1-15\",\"KSD1-19\",\"KSD1-20\",\"KSD1-23\",\"KSD1-24\",\"KSD1-25\"],\n",
    "#\"KSD2\": [\"KSD2-10A\",\"KSD2-11A\",\"KSD2-12A\",\"KSD2-13A\"],\n",
    "#\"KYU2\": [\"KYU2-10A\",\"KYU2-16A\",\"KYU2-18A\",\"KYU2-19A\",\"KYU2-21A\",\"KYU2-22A\",\"KYU2-3A\",\"KYU2-5A\",\"KYU2-6A\",\"KYU2-9A\"],\n",
    "#\"KYU7\": [\"KYU7-10A\",\"KYU7-13A\",\"KYU7-14A\",\"KYU7-17A\",\"KYU7-17A\",\"KYU7-18A\",\"KYU7-19A\",\"KYU7-1A\",\"KYU7-21A\",\"KYU7-2A\",\"KYU7-6A\"],\n",
    "#\"KZH10\": [\"KZH10-10A\",\"KZH10-10A\",\"KZH10-12A\",\"KZH10-12A\",\"KZH10-14A\",\"KZH10-16A\",\"KZH10-18A\",\"KZH10-19A\",\"KZH10-23A\",\"KZH10-4A\",\"KZH10-6A\",\"KZH10-8A\"],\n",
    "#\"KZH8\": [\"KZH8-11A\",\"KZH8-11A\",\"KZH8-13A\",\"KZH8-14A\",\"KZH8-16A\",\"KZH8-18A\",\"KZH8-19A\",\"KZH8-20A\",\"KZH8-21A\",\"KZH8-22A\",\"KZH8-8A\"],\n",
    "#\"KAN1\": [\"KAN1-10A\",\"KAN1-11\",\"KAN1-15A\",\"KAN1-20\",\"KAN1-3\"],\n",
    "#\"KAN4\": [\"KAN4-14A\",\"KAN4-20A\",\"KAN4-23A\"],\n",
    "#\"KAN5\": [\"KAN5-1A\",\"KAN5-1A\",\"KAN5-2A\",\"KAN5-3A\",\"KAN5-4A\",\"KAN5-5A\"],\n",
    "#\"KB1\": [\"KB1-1\",\"KB1-1\",\"KB1-10\",\"KB1-13\",\"KB1-14\",\"KB1-4\"],\n",
    "\"KFU7\": [\"KFU7-10K\",\"KFU7-11K\",\"KFU7-12K\",\"KFU7-16K\",\"KFU7-21K\",\"KFU7-25K\",\"KFU7-2KA\",\"KFU7-5A\",\"KFU7-7KA\",\"KFU7-8KA\"],\n",
    "\"KGD3\": [\"KGD3-12A\",\"KGD3-13A\",\"KGD3-16A\",\"KGD3-17A\",\"KGD3-18A\",\"KGD3-19A\",\"KGD3-20A\",\"KGD3-23A\",\"KGD3-2A\",\"KGD3-3A\"],#\"KGD3-5A\"],\n",
    "\"KGD4\": [\"KGD4-10\",\"KGD4-11A\",\"KGD4-19\",\"KGD4-1A\",\"KGD4-24\"], #\"KGD4-13A\",\"KGD4-14A\",\"KGD4-23\",\"KGD4-2A\",\"KGD4-7A\"\n",
    "\"KGD5\": [\"KGD5-6A\",\"KGD5-7A\"],\n",
    "\"KGU1\": [\"KGU1-10A\",\"KGU1-11A\",\"KGU1-12A\",\"KGU1-13A\",\"KGU1-1A\",\"KGU1-20A\",\"KGU1-22A\",\"KGU1-3A\",\"KGU1-6A\",\"KGU1-7A\",\"KGU1-9A\"],\n",
    "\"KHN10\": [\"KHN10-10A\",\"KHN10-13A\",\"KHN10-15A\",\"KHN10-17A\",\"KHN10-18A\",\"KHN10-1A\",\"KHN10-22A\",\"KHN10-23A\",\"KHN10-24A\"],#\"KHN10-7A\"],\n",
    "\"KHN11\": [\"KHN11-15A\",\"KHN11-1A\",\"KHN11-8A\"],#\"KHN11-6A\",\n",
    "\"KHN5\": [\"KHN5-10\",\"KHN5-11A\",\"KHN5-12A\",\"KHN5-13A\",\"KHN5-15A\",\"KHN5-16A\",\"KHN5-17A\",\"KHN5-1A\",\"KHN5-22A\",\"KHN5-24A\"],\n",
    "\"KHN7\": [\"KHN7-10A\",\"KHN7-11A\",\"KHN7-16A\",\"KHN7-17A\",\"KHN7-19A\",\"KHN7-22A\",\"KHN7-2A\",\"KHN7-5A\",\"KHN7-6A\",\"KHN7-7A\"],\n",
    "\"KHN9\": [\"KHN9-10A\",\"KHN9-12A\",\"KHN9-13A\",\"KHN9-14A\",\"KHN9-17A\",\"KHN9-20A\",\"KHN9-21A\",\"KHN9-22A\",\"KHN9-24A\",\"KHN9-7A\"],\n",
    "#\"KHU3\": [\"KHU-16A\",\"KHU3-11A\",\"KHU3-11A\",\"KHU3-12A\",\"KHU3-13A\",\"KHU3-14A\",\"KHU3-15A\",\"KHU3-17A\",\"KHU3-19A\",\"KHU3-1A\",\"KHU3-2A\"],\n",
    "#\"KHU2\": [\"KHU2-10A\",\"KHU2-10A\",\"KHU2-11A\",\"KHU2-14A\",\"KHU2-15A\",\"KHU2-16A\",\"KHU2-22A\",\"KHU2-2A\",\"KHU2-4A\",\"KHU2-6A\",\"KHU2-9A\"],\n",
    "#\"KJI2\": [\"KJI2-11A\",\"KJI2-11A\",\"KJI2-13A\",\"KJI2-14A\",\"KJI2-15A\",\"KJI2-16A\",\"KJI2-18A\",\"KJI2-24A\",\"KJI2-25A\",\"KJI2-6A\",\"KJI2-7A\"],\n",
    "#\"KJI5\": [\"KJI5-10A\",\"KJI5-10A\",\"KJI5-11A\",\"KJI5-18A\",\"KJI5-24A\",\"KJI5-2A\"],\n",
    "#\"KJIX2\": [\"KJIX2-12A\",\"KJIX2-12A\",\"KJIX2-15A\",\"KJIX2-17A\",\"KJIX2-1A\",\"KJIX2-23A\",\"KJIX2-24A\",\"KJIX2-25A\",\"KJIX2-26A\",\"KJIX2-28A\",\"KJIX2-3A\"],\n",
    "\"KTW1\": [\"KTW1-11A\",\"KTW1-14A\",\"KTW1-15A\",\"KTW1-1A\",\"KTW1-22A\",\"KTW1-23A\",\"KTW1-3A\",\"KTW1-4A\",\"KTW1-7A\",\"KTW1-9A\"],\n",
    "\"KTW4\": [\"KTW4-12B\",\"KTW4-13B\",\"KTW4-15B\",\"KTW4-17B\",\"KTW4-18B\",\"KTW4-19B\",\"KTW4-20B\",\"KTW4-21B\",\"KTW4-22B\",\"KTW4-24B\"],\n",
    "\"KTW6\": [\"KTW6-12A\",\"KTW6-15A\",\"KTW6-17A\",\"KTW6-18A\",\"KTW6-1A\",\"KTW6-23A\",\"KTW6-24A\",\"KTW6-2A\",\"KTW6-5A\",\"KTW6-7A\"],\n",
    "#\"NI1\": [\"NI1-8K\",\"NI2-14K\"],\n",
    "#\"soybean\":[\"soybean\"] #If I include this, it makes a samples called soybean that is entirely missing data and raxml quits1\n",
    "}"
   ]
  },
  {
   "cell_type": "code",
   "execution_count": 4,
   "metadata": {},
   "outputs": [
    {
     "name": "stdout",
     "output_type": "stream",
     "text": [
      "Wrote data to /rigel/dsi/users/slh2181/Pmontana/Analysis/Taiwan/TW.SCh_denovo3.phy\n"
     ]
    },
    {
     "data": {
      "text/html": [
       "<div>\n",
       "<style scoped>\n",
       "    .dataframe tbody tr th:only-of-type {\n",
       "        vertical-align: middle;\n",
       "    }\n",
       "\n",
       "    .dataframe tbody tr th {\n",
       "        vertical-align: top;\n",
       "    }\n",
       "\n",
       "    .dataframe thead th {\n",
       "        text-align: right;\n",
       "    }\n",
       "</style>\n",
       "<table border=\"1\" class=\"dataframe\">\n",
       "  <thead>\n",
       "    <tr style=\"text-align: right;\">\n",
       "      <th></th>\n",
       "      <th>scaffold</th>\n",
       "      <th>start</th>\n",
       "      <th>end</th>\n",
       "      <th>sites</th>\n",
       "      <th>snps</th>\n",
       "      <th>missing</th>\n",
       "      <th>samples</th>\n",
       "    </tr>\n",
       "  </thead>\n",
       "  <tbody>\n",
       "    <tr>\n",
       "      <th>0</th>\n",
       "      <td>concatenated</td>\n",
       "      <td>0</td>\n",
       "      <td>161939</td>\n",
       "      <td>161939</td>\n",
       "      <td>6985</td>\n",
       "      <td>0.112</td>\n",
       "      <td>110</td>\n",
       "    </tr>\n",
       "  </tbody>\n",
       "</table>\n",
       "</div>"
      ],
      "text/plain": [
       "       scaffold  start     end   sites  snps  missing  samples\n",
       "0  concatenated      0  161939  161939  6985    0.112      110"
      ]
     },
     "execution_count": 4,
     "metadata": {},
     "output_type": "execute_result"
    }
   ],
   "source": [
    "# select a scaffold idx, start, and end positions\n",
    "T_denovo = ipa.window_extracter(\n",
    "    data = data,\n",
    "    name=\"TW.SCh_denovo3\",\n",
    "    workdir=OUTDIR,\n",
    "    scaffold_idxs=range(16336),\n",
    "    mincov=3,\n",
    "    imap=imap,\n",
    "    minmap= {i: 0.25 for i in imap}, #half of each key in imap dictionary,\n",
    "    consensus_reduce=False,\n",
    ")\n",
    "\n",
    "#write output to file\n",
    "T_denovo.run(force=True)\n",
    "# show stats of the window\n",
    "T_denovo.stats"
   ]
  },
  {
   "cell_type": "code",
   "execution_count": 5,
   "metadata": {},
   "outputs": [
    {
     "name": "stdout",
     "output_type": "stream",
     "text": [
      "/rigel/home/slh2181/miniconda3/bin/raxmlHPC-PTHREADS-AVX2 -f a -T 24 -m GTRGAMMA -n TaiwanCh-denovo3 -w /rigel/dsi/users/slh2181/Pmontana/Analysis/Taiwan -s /rigel/dsi/users/slh2181/Pmontana/Analysis/Taiwan/TW.SCh_denovo3.phy -p 54321 -N 100 -x 12345\n",
      "job TaiwanCh-denovo3 finished successfully\n"
     ]
    }
   ],
   "source": [
    "# init raxml object with input data and (optional) parameter options\n",
    "rax = ipa.raxml(data=T_denovo.outfile, T=24, N=100, m = \"GTRGAMMA\", name=\"TaiwanCh-denovo3\",\n",
    "               workdir=\"/rigel/dsi/users/slh2181/Pmontana/Analysis/Taiwan\")\n",
    "\n",
    "# print the raxml command string for prosperity\n",
    "print(rax.command)\n",
    "\n",
    "# run the command, (options: block until finishes; overwrite existing)\n",
    "rax.run(block=True, force=True)"
   ]
  },
  {
   "cell_type": "code",
   "execution_count": 6,
   "metadata": {},
   "outputs": [
    {
     "data": {
      "text/html": [
       "<div class=\"toyplot\" id=\"tabdfdf252cef49bd8f17586b818f2827\" style=\"text-align:center\"><svg class=\"toyplot-canvas-Canvas\" height=\"1500.0px\" id=\"t1e562e2e5b904f71a28f7a88b37afa23\" preserveAspectRatio=\"xMidYMid meet\" style=\"background-color:transparent;border-color:#292724;border-style:none;border-width:1.0;fill:rgb(16.1%,15.3%,14.1%);fill-opacity:1.0;font-family:Helvetica;font-size:12px;opacity:1.0;stroke:rgb(16.1%,15.3%,14.1%);stroke-opacity:1.0;stroke-width:1.0\" viewBox=\"0 0 600.0 1500.0\" width=\"600.0px\" xmlns=\"http://www.w3.org/2000/svg\" xmlns:toyplot=\"http://www.sandia.gov/toyplot\" xmlns:xlink=\"http://www.w3.org/1999/xlink\"><g class=\"toyplot-coordinates-Cartesian\" id=\"t76a3058742e94620a7af3b2759667e4f\"><clipPath id=\"t0cb66c00b71e421085634f5a5fa19e7f\"><rect height=\"1440.0\" width=\"540.0\" x=\"30.0\" y=\"30.0\"></rect></clipPath><g clip-path=\"url(#t0cb66c00b71e421085634f5a5fa19e7f)\"><g class=\"toytree-mark-Toytree\" id=\"ta3e65d680de046e490db7c061b1cbf9f\"><g class=\"toytree-Edges\" style=\"fill:none;stroke:rgb(14.9%,14.9%,14.9%);stroke-linecap:round;stroke-opacity:1;stroke-width:2\"><path d=\"M 50.0 550.6 L 50.0 185.8 L 314.0 185.8\" id=\"156,155\"></path><path d=\"M 50.0 550.6 L 50.0 915.3 L 314.0 915.3\" id=\"156,154\"></path><path d=\"M 314.0 185.8 L 314.0 106.9 L 347.8 106.9\" id=\"155,153\"></path><path d=\"M 314.0 185.8 L 314.0 264.6 L 334.9 264.6\" id=\"155,152\"></path><path d=\"M 314.0 915.3 L 314.0 548.8 L 358.1 548.8\" id=\"154,151\"></path><path d=\"M 314.0 915.3 L 314.0 680.8 L 362.4 680.8\" id=\"154,150\"></path><path d=\"M 314.0 915.3 L 314.0 762.6 L 362.0 762.6\" id=\"154,149\"></path><path d=\"M 314.0 915.3 L 314.0 787.7 L 363.1 787.7\" id=\"154,148\"></path><path d=\"M 314.0 915.3 L 314.0 819.2 L 359.9 819.2\" id=\"154,147\"></path><path d=\"M 314.0 915.3 L 314.0 864.7 L 363.5 864.7\" id=\"154,146\"></path><path d=\"M 314.0 915.3 L 314.0 1113.4 L 352.0 1113.4\" id=\"154,145\"></path><path d=\"M 314.0 915.3 L 314.0 1297.0 L 357.4 1297.0\" id=\"154,144\"></path><path d=\"M 314.0 915.3 L 314.0 1363.6 L 357.1 1363.6\" id=\"154,143\"></path><path d=\"M 347.8 106.9 L 347.8 71.0 L 364.6 71.0\" id=\"153,142\"></path><path d=\"M 347.8 106.9 L 347.8 99.3 L 377.3 99.3\" id=\"153,141\"></path><path d=\"M 347.8 106.9 L 347.8 150.6 L 368.3 150.6\" id=\"153,140\"></path><path d=\"M 334.9 264.6 L 334.9 187.3 L 368.5 187.3\" id=\"152,139\"></path><path d=\"M 334.9 264.6 L 334.9 225.0 L 367.3 225.0\" id=\"152,138\"></path><path d=\"M 334.9 264.6 L 334.9 259.6 L 373.5 259.6\" id=\"152,137\"></path><path d=\"M 334.9 264.6 L 334.9 386.6 L 359.9 386.6\" id=\"152,136\"></path><path d=\"M 363.5 864.7 L 363.5 850.6 L 377.4 850.6\" id=\"146,135\"></path><path d=\"M 363.5 864.7 L 363.5 878.9 L 374.1 878.9\" id=\"146,134\"></path><path d=\"M 352.0 1113.4 L 352.0 963.8 L 367.3 963.8\" id=\"145,133\"></path><path d=\"M 352.0 1113.4 L 352.0 1116.1 L 396.0 1116.1\" id=\"145,132\"></path><path d=\"M 352.0 1113.4 L 352.0 1202.7 L 393.4 1202.7\" id=\"145,131\"></path><path d=\"M 352.0 1113.4 L 352.0 1240.4 L 380.2 1240.4\" id=\"145,130\"></path><path d=\"M 352.0 1113.4 L 352.0 1265.6 L 371.8 1265.6\" id=\"145,129\"></path><path d=\"M 357.1 1363.6 L 357.1 1328.4 L 371.2 1328.4\" id=\"143,128\"></path><path d=\"M 357.1 1363.6 L 357.1 1410.2 L 386.1 1410.2\" id=\"143,127\"></path><path d=\"M 377.3 99.3 L 377.3 108.7 L 378.2 108.7\" id=\"141,126\"></path><path d=\"M 368.3 150.6 L 368.3 133.8 L 369.7 133.8\" id=\"140,125\"></path><path d=\"M 368.5 187.3 L 368.5 196.7 L 370.8 196.7\" id=\"139,124\"></path><path d=\"M 367.3 225.0 L 367.3 234.4 L 370.4 234.4\" id=\"138,123\"></path><path d=\"M 359.9 386.6 L 359.9 323.3 L 393.0 323.3\" id=\"136,122\"></path><path d=\"M 359.9 386.6 L 359.9 445.1 L 387.2 445.1\" id=\"136,121\"></path><path d=\"M 374.1 878.9 L 374.1 888.3 L 381.0 888.3\" id=\"134,120\"></path><path d=\"M 367.3 963.8 L 367.3 938.6 L 401.9 938.6\" id=\"133,119\"></path><path d=\"M 367.3 963.8 L 367.3 988.9 L 399.3 988.9\" id=\"133,118\"></path><path d=\"M 396.0 1116.1 L 396.0 1102.1 L 398.8 1102.1\" id=\"132,117\"></path><path d=\"M 393.0 323.3 L 393.0 372.8 L 397.3 372.8\" id=\"122,116\"></path><path d=\"M 387.2 445.1 L 387.2 413.6 L 435.7 413.6\" id=\"121,115\"></path><path d=\"M 387.2 445.1 L 387.2 448.2 L 421.1 448.2\" id=\"121,114\"></path><path d=\"M 387.2 445.1 L 387.2 473.4 L 433.7 473.4\" id=\"121,113\"></path><path d=\"M 399.3 988.9 L 399.3 963.8 L 403.9 963.8\" id=\"118,112\"></path><path d=\"M 399.3 988.9 L 399.3 1020.4 L 448.0 1020.4\" id=\"118,111\"></path><path d=\"M 435.7 413.6 L 435.7 423.1 L 436.5 423.1\" id=\"115,110\"></path><path d=\"M 364.6 71.0 L 364.6 64.7 L 378.4 64.7\" id=\"142,109\"></path><path d=\"M 364.6 71.0 L 364.6 77.3 L 377.7 77.3\" id=\"142,108\"></path><path d=\"M 377.3 99.3 L 377.3 89.8 L 378.3 89.8\" id=\"141,107\"></path><path d=\"M 378.2 108.7 L 378.2 102.4 L 378.2 102.4\" id=\"126,106\"></path><path d=\"M 378.2 108.7 L 378.2 115.0 L 378.2 115.0\" id=\"126,105\"></path><path d=\"M 369.7 133.8 L 369.7 127.6 L 371.4 127.6\" id=\"125,104\"></path><path d=\"M 369.7 133.8 L 369.7 140.1 L 369.8 140.1\" id=\"125,103\"></path><path d=\"M 368.3 150.6 L 368.3 152.7 L 368.4 152.7\" id=\"140,102\"></path><path d=\"M 368.3 150.6 L 368.3 165.3 L 368.4 165.3\" id=\"140,101\"></path><path d=\"M 368.5 187.3 L 368.5 177.9 L 375.6 177.9\" id=\"139,100\"></path><path d=\"M 370.8 196.7 L 370.8 190.4 L 372.4 190.4\" id=\"124,99\"></path><path d=\"M 370.8 196.7 L 370.8 203.0 L 375.1 203.0\" id=\"124,98\"></path><path d=\"M 367.3 225.0 L 367.3 215.6 L 369.3 215.6\" id=\"138,97\"></path><path d=\"M 370.4 234.4 L 370.4 228.2 L 372.3 228.2\" id=\"123,96\"></path><path d=\"M 370.4 234.4 L 370.4 240.7 L 371.6 240.7\" id=\"123,95\"></path><path d=\"M 373.5 259.6 L 373.5 253.3 L 377.1 253.3\" id=\"137,94\"></path><path d=\"M 373.5 259.6 L 373.5 265.9 L 376.4 265.9\" id=\"137,93\"></path><path d=\"M 393.0 323.3 L 393.0 278.5 L 393.8 278.5\" id=\"122,92\"></path><path d=\"M 393.0 323.3 L 393.0 291.0 L 395.8 291.0\" id=\"122,91\"></path><path d=\"M 393.0 323.3 L 393.0 303.6 L 394.7 303.6\" id=\"122,90\"></path><path d=\"M 393.0 323.3 L 393.0 316.2 L 393.8 316.2\" id=\"122,89\"></path><path d=\"M 393.0 323.3 L 393.0 328.8 L 393.1 328.8\" id=\"122,88\"></path><path d=\"M 393.0 323.3 L 393.0 341.3 L 395.6 341.3\" id=\"122,87\"></path><path d=\"M 393.0 323.3 L 393.0 353.9 L 397.3 353.9\" id=\"122,86\"></path><path d=\"M 397.3 372.8 L 397.3 366.5 L 398.2 366.5\" id=\"116,85\"></path><path d=\"M 397.3 372.8 L 397.3 379.0 L 398.6 379.0\" id=\"116,84\"></path><path d=\"M 359.9 386.6 L 359.9 391.6 L 381.2 391.6\" id=\"136,83\"></path><path d=\"M 435.7 413.6 L 435.7 404.2 L 435.7 404.2\" id=\"115,82\"></path><path d=\"M 436.5 423.1 L 436.5 416.8 L 442.0 416.8\" id=\"110,81\"></path><path d=\"M 436.5 423.1 L 436.5 429.3 L 436.5 429.3\" id=\"110,80\"></path><path d=\"M 421.1 448.2 L 421.1 441.9 L 421.6 441.9\" id=\"114,79\"></path><path d=\"M 421.1 448.2 L 421.1 454.5 L 421.5 454.5\" id=\"114,78\"></path><path d=\"M 433.7 473.4 L 433.7 467.1 L 435.3 467.1\" id=\"113,77\"></path><path d=\"M 433.7 473.4 L 433.7 479.6 L 434.4 479.6\" id=\"113,76\"></path><path d=\"M 358.1 548.8 L 358.1 492.2 L 366.1 492.2\" id=\"151,75\"></path><path d=\"M 358.1 548.8 L 358.1 504.8 L 360.0 504.8\" id=\"151,74\"></path><path d=\"M 358.1 548.8 L 358.1 517.4 L 360.0 517.4\" id=\"151,73\"></path><path d=\"M 358.1 548.8 L 358.1 529.9 L 360.3 529.9\" id=\"151,72\"></path><path d=\"M 358.1 548.8 L 358.1 542.5 L 358.2 542.5\" id=\"151,71\"></path><path d=\"M 358.1 548.8 L 358.1 555.1 L 358.5 555.1\" id=\"151,70\"></path><path d=\"M 358.1 548.8 L 358.1 567.7 L 359.6 567.7\" id=\"151,69\"></path><path d=\"M 358.1 548.8 L 358.1 580.2 L 360.8 580.2\" id=\"151,68\"></path><path d=\"M 358.1 548.8 L 358.1 592.8 L 358.7 592.8\" id=\"151,67\"></path><path d=\"M 358.1 548.8 L 358.1 605.4 L 361.2 605.4\" id=\"151,66\"></path><path d=\"M 362.4 680.8 L 362.4 618.0 L 369.2 618.0\" id=\"150,65\"></path><path d=\"M 362.4 680.8 L 362.4 630.5 L 362.8 630.5\" id=\"150,64\"></path><path d=\"M 362.4 680.8 L 362.4 643.1 L 363.7 643.1\" id=\"150,63\"></path><path d=\"M 362.4 680.8 L 362.4 655.7 L 365.9 655.7\" id=\"150,62\"></path><path d=\"M 362.4 680.8 L 362.4 668.3 L 364.4 668.3\" id=\"150,61\"></path><path d=\"M 362.4 680.8 L 362.4 680.8 L 364.9 680.8\" id=\"150,60\"></path><path d=\"M 362.4 680.8 L 362.4 693.4 L 362.4 693.4\" id=\"150,59\"></path><path d=\"M 362.4 680.8 L 362.4 706.0 L 362.4 706.0\" id=\"150,58\"></path><path d=\"M 362.4 680.8 L 362.4 718.6 L 364.4 718.6\" id=\"150,57\"></path><path d=\"M 362.4 680.8 L 362.4 731.1 L 362.4 731.1\" id=\"150,56\"></path><path d=\"M 362.4 680.8 L 362.4 743.7 L 362.4 743.7\" id=\"150,55\"></path><path d=\"M 362.0 762.6 L 362.0 756.3 L 363.5 756.3\" id=\"149,54\"></path><path d=\"M 362.0 762.6 L 362.0 768.9 L 364.6 768.9\" id=\"149,53\"></path><path d=\"M 363.1 787.7 L 363.1 781.4 L 366.5 781.4\" id=\"148,52\"></path><path d=\"M 363.1 787.7 L 363.1 794.0 L 367.8 794.0\" id=\"148,51\"></path><path d=\"M 359.9 819.2 L 359.9 806.6 L 363.6 806.6\" id=\"147,50\"></path><path d=\"M 359.9 819.2 L 359.9 819.2 L 366.4 819.2\" id=\"147,49\"></path><path d=\"M 359.9 819.2 L 359.9 831.7 L 366.0 831.7\" id=\"147,48\"></path><path d=\"M 377.4 850.6 L 377.4 844.3 L 384.5 844.3\" id=\"135,47\"></path><path d=\"M 377.4 850.6 L 377.4 856.9 L 382.7 856.9\" id=\"135,46\"></path><path d=\"M 374.1 878.9 L 374.1 869.5 L 378.3 869.5\" id=\"134,45\"></path><path d=\"M 381.0 888.3 L 381.0 882.0 L 382.7 882.0\" id=\"120,44\"></path><path d=\"M 381.0 888.3 L 381.0 894.6 L 384.0 894.6\" id=\"120,43\"></path><path d=\"M 352.0 1113.4 L 352.0 907.2 L 391.1 907.2\" id=\"145,42\"></path><path d=\"M 352.0 1113.4 L 352.0 919.8 L 380.7 919.8\" id=\"145,41\"></path><path d=\"M 401.9 938.6 L 401.9 932.3 L 401.9 932.3\" id=\"119,40\"></path><path d=\"M 401.9 938.6 L 401.9 944.9 L 402.5 944.9\" id=\"119,39\"></path><path d=\"M 403.9 963.8 L 403.9 957.5 L 404.0 957.5\" id=\"112,38\"></path><path d=\"M 403.9 963.8 L 403.9 970.1 L 404.5 970.1\" id=\"112,37\"></path><path d=\"M 399.3 988.9 L 399.3 982.6 L 402.2 982.6\" id=\"118,36\"></path><path d=\"M 448.0 1020.4 L 448.0 995.2 L 449.4 995.2\" id=\"111,35\"></path><path d=\"M 448.0 1020.4 L 448.0 1007.8 L 451.8 1007.8\" id=\"111,34\"></path><path d=\"M 448.0 1020.4 L 448.0 1020.4 L 449.0 1020.4\" id=\"111,33\"></path><path d=\"M 448.0 1020.4 L 448.0 1032.9 L 449.9 1032.9\" id=\"111,32\"></path><path d=\"M 448.0 1020.4 L 448.0 1045.5 L 450.8 1045.5\" id=\"111,31\"></path><path d=\"M 396.0 1116.1 L 396.0 1058.1 L 398.6 1058.1\" id=\"132,30\"></path><path d=\"M 396.0 1116.1 L 396.0 1070.7 L 396.8 1070.7\" id=\"132,29\"></path><path d=\"M 396.0 1116.1 L 396.0 1083.2 L 396.4 1083.2\" id=\"132,28\"></path><path d=\"M 398.8 1102.1 L 398.8 1095.8 L 398.9 1095.8\" id=\"117,27\"></path><path d=\"M 398.8 1102.1 L 398.8 1108.4 L 398.9 1108.4\" id=\"117,26\"></path><path d=\"M 396.0 1116.1 L 396.0 1121.0 L 396.0 1121.0\" id=\"132,25\"></path><path d=\"M 396.0 1116.1 L 396.0 1133.5 L 396.7 1133.5\" id=\"132,24\"></path><path d=\"M 396.0 1116.1 L 396.0 1146.1 L 397.1 1146.1\" id=\"132,23\"></path><path d=\"M 396.0 1116.1 L 396.0 1158.7 L 396.7 1158.7\" id=\"132,22\"></path><path d=\"M 396.0 1116.1 L 396.0 1171.2 L 396.6 1171.2\" id=\"132,21\"></path><path d=\"M 352.0 1113.4 L 352.0 1183.8 L 374.9 1183.8\" id=\"145,20\"></path><path d=\"M 393.4 1202.7 L 393.4 1196.4 L 393.4 1196.4\" id=\"131,19\"></path><path d=\"M 393.4 1202.7 L 393.4 1209.0 L 394.1 1209.0\" id=\"131,18\"></path><path d=\"M 352.0 1113.4 L 352.0 1221.5 L 382.5 1221.5\" id=\"145,17\"></path><path d=\"M 380.2 1240.4 L 380.2 1234.1 L 380.5 1234.1\" id=\"130,16\"></path><path d=\"M 380.2 1240.4 L 380.2 1246.7 L 380.2 1246.7\" id=\"130,15\"></path><path d=\"M 371.8 1265.6 L 371.8 1259.3 L 372.8 1259.3\" id=\"129,14\"></path><path d=\"M 371.8 1265.6 L 371.8 1271.8 L 375.8 1271.8\" id=\"129,13\"></path><path d=\"M 357.4 1297.0 L 357.4 1284.4 L 358.1 1284.4\" id=\"144,12\"></path><path d=\"M 357.4 1297.0 L 357.4 1297.0 L 387.5 1297.0\" id=\"144,11\"></path><path d=\"M 357.4 1297.0 L 357.4 1309.6 L 362.1 1309.6\" id=\"144,10\"></path><path d=\"M 371.2 1328.4 L 371.2 1322.1 L 374.6 1322.1\" id=\"128,9\"></path><path d=\"M 371.2 1328.4 L 371.2 1334.7 L 371.9 1334.7\" id=\"128,8\"></path><path d=\"M 357.1 1363.6 L 357.1 1347.3 L 364.6 1347.3\" id=\"143,7\"></path><path d=\"M 357.1 1363.6 L 357.1 1359.9 L 362.7 1359.9\" id=\"143,6\"></path><path d=\"M 357.1 1363.6 L 357.1 1372.4 L 363.9 1372.4\" id=\"143,5\"></path><path d=\"M 386.1 1410.2 L 386.1 1385.0 L 392.0 1385.0\" id=\"127,4\"></path><path d=\"M 386.1 1410.2 L 386.1 1397.6 L 386.8 1397.6\" id=\"127,3\"></path><path d=\"M 386.1 1410.2 L 386.1 1410.2 L 390.4 1410.2\" id=\"127,2\"></path><path d=\"M 386.1 1410.2 L 386.1 1422.7 L 407.7 1422.7\" id=\"127,1\"></path><path d=\"M 386.1 1410.2 L 386.1 1435.3 L 395.3 1435.3\" id=\"127,0\"></path></g><g class=\"toytree-Nodes\" style=\"fill:rgb(100%,100%,100%);fill-opacity:1.0;stroke:rgb(0%,0%,0%);stroke-opacity:1.0;stroke-width:1\"><g id=\"node-0\" transform=\"translate(395.302,1435.315)\"><circle r=\"0.0\"></circle></g><g id=\"node-1\" transform=\"translate(407.658,1422.740)\"><circle r=\"0.0\"></circle></g><g id=\"node-2\" transform=\"translate(390.355,1410.166)\"><circle r=\"0.0\"></circle></g><g id=\"node-3\" transform=\"translate(386.820,1397.591)\"><circle r=\"0.0\"></circle></g><g id=\"node-4\" transform=\"translate(392.007,1385.016)\"><circle r=\"0.0\"></circle></g><g id=\"node-5\" transform=\"translate(363.943,1372.442)\"><circle r=\"0.0\"></circle></g><g id=\"node-6\" transform=\"translate(362.654,1359.867)\"><circle r=\"0.0\"></circle></g><g id=\"node-7\" transform=\"translate(364.630,1347.293)\"><circle r=\"0.0\"></circle></g><g id=\"node-8\" transform=\"translate(371.929,1334.718)\"><circle r=\"0.0\"></circle></g><g id=\"node-9\" transform=\"translate(374.593,1322.143)\"><circle r=\"0.0\"></circle></g><g id=\"node-10\" transform=\"translate(362.128,1309.569)\"><circle r=\"0.0\"></circle></g><g id=\"node-11\" transform=\"translate(387.519,1296.994)\"><circle r=\"0.0\"></circle></g><g id=\"node-12\" transform=\"translate(358.118,1284.420)\"><circle r=\"0.0\"></circle></g><g id=\"node-13\" transform=\"translate(375.845,1271.845)\"><circle r=\"0.0\"></circle></g><g id=\"node-14\" transform=\"translate(372.776,1259.271)\"><circle r=\"0.0\"></circle></g><g id=\"node-15\" transform=\"translate(380.233,1246.696)\"><circle r=\"0.0\"></circle></g><g id=\"node-16\" transform=\"translate(380.532,1234.121)\"><circle r=\"0.0\"></circle></g><g id=\"node-17\" transform=\"translate(382.495,1221.547)\"><circle r=\"0.0\"></circle></g><g id=\"node-18\" transform=\"translate(394.138,1208.972)\"><circle r=\"0.0\"></circle></g><g id=\"node-19\" transform=\"translate(393.431,1196.398)\"><circle r=\"0.0\"></circle></g><g id=\"node-20\" transform=\"translate(374.860,1183.823)\"><circle r=\"0.0\"></circle></g><g id=\"node-21\" transform=\"translate(396.588,1171.248)\"><circle r=\"0.0\"></circle></g><g id=\"node-22\" transform=\"translate(396.737,1158.674)\"><circle r=\"0.0\"></circle></g><g id=\"node-23\" transform=\"translate(397.098,1146.099)\"><circle r=\"0.0\"></circle></g><g id=\"node-24\" transform=\"translate(396.703,1133.525)\"><circle r=\"0.0\"></circle></g><g id=\"node-25\" transform=\"translate(395.999,1120.950)\"><circle r=\"0.0\"></circle></g><g id=\"node-26\" transform=\"translate(398.852,1108.376)\"><circle r=\"0.0\"></circle></g><g id=\"node-27\" transform=\"translate(398.852,1095.801)\"><circle r=\"0.0\"></circle></g><g id=\"node-28\" transform=\"translate(396.358,1083.226)\"><circle r=\"0.0\"></circle></g><g id=\"node-29\" transform=\"translate(396.828,1070.652)\"><circle r=\"0.0\"></circle></g><g id=\"node-30\" transform=\"translate(398.583,1058.077)\"><circle r=\"0.0\"></circle></g><g id=\"node-31\" transform=\"translate(450.767,1045.503)\"><circle r=\"0.0\"></circle></g><g id=\"node-32\" transform=\"translate(449.937,1032.928)\"><circle r=\"0.0\"></circle></g><g id=\"node-33\" transform=\"translate(449.019,1020.353)\"><circle r=\"0.0\"></circle></g><g id=\"node-34\" transform=\"translate(451.768,1007.779)\"><circle r=\"0.0\"></circle></g><g id=\"node-35\" transform=\"translate(449.444,995.204)\"><circle r=\"0.0\"></circle></g><g id=\"node-36\" transform=\"translate(402.162,982.630)\"><circle r=\"0.0\"></circle></g><g id=\"node-37\" transform=\"translate(404.489,970.055)\"><circle r=\"0.0\"></circle></g><g id=\"node-38\" transform=\"translate(403.963,957.481)\"><circle r=\"0.0\"></circle></g><g id=\"node-39\" transform=\"translate(402.509,944.906)\"><circle r=\"0.0\"></circle></g><g id=\"node-40\" transform=\"translate(401.948,932.331)\"><circle r=\"0.0\"></circle></g><g id=\"node-41\" transform=\"translate(380.665,919.757)\"><circle r=\"0.0\"></circle></g><g id=\"node-42\" transform=\"translate(391.071,907.182)\"><circle r=\"0.0\"></circle></g><g id=\"node-43\" transform=\"translate(384.008,894.608)\"><circle r=\"0.0\"></circle></g><g id=\"node-44\" transform=\"translate(382.658,882.033)\"><circle r=\"0.0\"></circle></g><g id=\"node-45\" transform=\"translate(378.261,869.459)\"><circle r=\"0.0\"></circle></g><g id=\"node-46\" transform=\"translate(382.669,856.884)\"><circle r=\"0.0\"></circle></g><g id=\"node-47\" transform=\"translate(384.471,844.309)\"><circle r=\"0.0\"></circle></g><g id=\"node-48\" transform=\"translate(365.955,831.735)\"><circle r=\"0.0\"></circle></g><g id=\"node-49\" transform=\"translate(366.424,819.160)\"><circle r=\"0.0\"></circle></g><g id=\"node-50\" transform=\"translate(363.620,806.586)\"><circle r=\"0.0\"></circle></g><g id=\"node-51\" transform=\"translate(367.827,794.011)\"><circle r=\"0.0\"></circle></g><g id=\"node-52\" transform=\"translate(366.533,781.436)\"><circle r=\"0.0\"></circle></g><g id=\"node-53\" transform=\"translate(364.582,768.862)\"><circle r=\"0.0\"></circle></g><g id=\"node-54\" transform=\"translate(363.493,756.287)\"><circle r=\"0.0\"></circle></g><g id=\"node-55\" transform=\"translate(362.398,743.713)\"><circle r=\"0.0\"></circle></g><g id=\"node-56\" transform=\"translate(362.398,731.138)\"><circle r=\"0.0\"></circle></g><g id=\"node-57\" transform=\"translate(364.432,718.564)\"><circle r=\"0.0\"></circle></g><g id=\"node-58\" transform=\"translate(362.398,705.989)\"><circle r=\"0.0\"></circle></g><g id=\"node-59\" transform=\"translate(362.398,693.414)\"><circle r=\"0.0\"></circle></g><g id=\"node-60\" transform=\"translate(364.878,680.840)\"><circle r=\"0.0\"></circle></g><g id=\"node-61\" transform=\"translate(364.390,668.265)\"><circle r=\"0.0\"></circle></g><g id=\"node-62\" transform=\"translate(365.950,655.691)\"><circle r=\"0.0\"></circle></g><g id=\"node-63\" transform=\"translate(363.671,643.116)\"><circle r=\"0.0\"></circle></g><g id=\"node-64\" transform=\"translate(362.758,630.541)\"><circle r=\"0.0\"></circle></g><g id=\"node-65\" transform=\"translate(369.183,617.967)\"><circle r=\"0.0\"></circle></g><g id=\"node-66\" transform=\"translate(361.169,605.392)\"><circle r=\"0.0\"></circle></g><g id=\"node-67\" transform=\"translate(358.692,592.818)\"><circle r=\"0.0\"></circle></g><g id=\"node-68\" transform=\"translate(360.814,580.243)\"><circle r=\"0.0\"></circle></g><g id=\"node-69\" transform=\"translate(359.620,567.669)\"><circle r=\"0.0\"></circle></g><g id=\"node-70\" transform=\"translate(358.514,555.094)\"><circle r=\"0.0\"></circle></g><g id=\"node-71\" transform=\"translate(358.155,542.519)\"><circle r=\"0.0\"></circle></g><g id=\"node-72\" transform=\"translate(360.347,529.945)\"><circle r=\"0.0\"></circle></g><g id=\"node-73\" transform=\"translate(359.993,517.370)\"><circle r=\"0.0\"></circle></g><g id=\"node-74\" transform=\"translate(359.970,504.796)\"><circle r=\"0.0\"></circle></g><g id=\"node-75\" transform=\"translate(366.115,492.221)\"><circle r=\"0.0\"></circle></g><g id=\"node-76\" transform=\"translate(434.433,479.647)\"><circle r=\"0.0\"></circle></g><g id=\"node-77\" transform=\"translate(435.346,467.072)\"><circle r=\"0.0\"></circle></g><g id=\"node-78\" transform=\"translate(421.465,454.497)\"><circle r=\"0.0\"></circle></g><g id=\"node-79\" transform=\"translate(421.586,441.923)\"><circle r=\"0.0\"></circle></g><g id=\"node-80\" transform=\"translate(436.535,429.348)\"><circle r=\"0.0\"></circle></g><g id=\"node-81\" transform=\"translate(442.004,416.774)\"><circle r=\"0.0\"></circle></g><g id=\"node-82\" transform=\"translate(435.695,404.199)\"><circle r=\"0.0\"></circle></g><g id=\"node-83\" transform=\"translate(381.180,391.624)\"><circle r=\"0.0\"></circle></g><g id=\"node-84\" transform=\"translate(398.648,379.050)\"><circle r=\"0.0\"></circle></g><g id=\"node-85\" transform=\"translate(398.201,366.475)\"><circle r=\"0.0\"></circle></g><g id=\"node-86\" transform=\"translate(397.325,353.901)\"><circle r=\"0.0\"></circle></g><g id=\"node-87\" transform=\"translate(395.586,341.326)\"><circle r=\"0.0\"></circle></g><g id=\"node-88\" transform=\"translate(393.083,328.752)\"><circle r=\"0.0\"></circle></g><g id=\"node-89\" transform=\"translate(393.839,316.177)\"><circle r=\"0.0\"></circle></g><g id=\"node-90\" transform=\"translate(394.655,303.602)\"><circle r=\"0.0\"></circle></g><g id=\"node-91\" transform=\"translate(395.777,291.028)\"><circle r=\"0.0\"></circle></g><g id=\"node-92\" transform=\"translate(393.791,278.453)\"><circle r=\"0.0\"></circle></g><g id=\"node-93\" transform=\"translate(376.354,265.879)\"><circle r=\"0.0\"></circle></g><g id=\"node-94\" transform=\"translate(377.136,253.304)\"><circle r=\"0.0\"></circle></g><g id=\"node-95\" transform=\"translate(371.566,240.729)\"><circle r=\"0.0\"></circle></g><g id=\"node-96\" transform=\"translate(372.313,228.155)\"><circle r=\"0.0\"></circle></g><g id=\"node-97\" transform=\"translate(369.274,215.580)\"><circle r=\"0.0\"></circle></g><g id=\"node-98\" transform=\"translate(375.094,203.006)\"><circle r=\"0.0\"></circle></g><g id=\"node-99\" transform=\"translate(372.387,190.431)\"><circle r=\"0.0\"></circle></g><g id=\"node-100\" transform=\"translate(375.589,177.857)\"><circle r=\"0.0\"></circle></g><g id=\"node-101\" transform=\"translate(368.362,165.282)\"><circle r=\"0.0\"></circle></g><g id=\"node-102\" transform=\"translate(368.362,152.707)\"><circle r=\"0.0\"></circle></g><g id=\"node-103\" transform=\"translate(369.773,140.133)\"><circle r=\"0.0\"></circle></g><g id=\"node-104\" transform=\"translate(371.353,127.558)\"><circle r=\"0.0\"></circle></g><g id=\"node-105\" transform=\"translate(378.202,114.984)\"><circle r=\"0.0\"></circle></g><g id=\"node-106\" transform=\"translate(378.202,102.409)\"><circle r=\"0.0\"></circle></g><g id=\"node-107\" transform=\"translate(378.320,89.834)\"><circle r=\"0.0\"></circle></g><g id=\"node-108\" transform=\"translate(377.750,77.260)\"><circle r=\"0.0\"></circle></g><g id=\"node-109\" transform=\"translate(378.417,64.685)\"><circle r=\"0.0\"></circle></g><g id=\"node-110\" transform=\"translate(436.493,423.061)\"><circle r=\"10.5\"></circle></g><g id=\"node-111\" transform=\"translate(448.049,1020.353)\"><circle r=\"10.5\"></circle></g><g id=\"node-112\" transform=\"translate(403.921,963.768)\"><circle r=\"10.5\"></circle></g><g id=\"node-113\" transform=\"translate(433.685,473.359)\"><circle r=\"10.5\"></circle></g><g id=\"node-114\" transform=\"translate(421.105,448.210)\"><circle r=\"10.5\"></circle></g><g id=\"node-115\" transform=\"translate(435.653,413.630)\"><circle r=\"10.5\"></circle></g><g id=\"node-116\" transform=\"translate(397.289,372.763)\"><circle r=\"10.5\"></circle></g><g id=\"node-117\" transform=\"translate(398.810,1102.088)\"><circle r=\"10.5\"></circle></g><g id=\"node-118\" transform=\"translate(399.335,988.917)\"><circle r=\"10.5\"></circle></g><g id=\"node-119\" transform=\"translate(401.906,938.619)\"><circle r=\"10.5\"></circle></g><g id=\"node-120\" transform=\"translate(380.990,888.320)\"><circle r=\"10.5\"></circle></g><g id=\"node-121\" transform=\"translate(387.222,445.066)\"><circle r=\"10.5\"></circle></g><g id=\"node-122\" transform=\"translate(393.041,323.250)\"><circle r=\"10.5\"></circle></g><g id=\"node-123\" transform=\"translate(370.376,234.442)\"><circle r=\"10.5\"></circle></g><g id=\"node-124\" transform=\"translate(370.783,196.718)\"><circle r=\"10.5\"></circle></g><g id=\"node-125\" transform=\"translate(369.731,133.846)\"><circle r=\"10.5\"></circle></g><g id=\"node-126\" transform=\"translate(378.160,108.696)\"><circle r=\"10.5\"></circle></g><g id=\"node-127\" transform=\"translate(386.149,1410.166)\"><circle r=\"10.5\"></circle></g><g id=\"node-128\" transform=\"translate(371.164,1328.431)\"><circle r=\"10.5\"></circle></g><g id=\"node-129\" transform=\"translate(371.784,1265.558)\"><circle r=\"10.5\"></circle></g><g id=\"node-130\" transform=\"translate(380.191,1240.409)\"><circle r=\"10.5\"></circle></g><g id=\"node-131\" transform=\"translate(393.389,1202.685)\"><circle r=\"10.5\"></circle></g><g id=\"node-132\" transform=\"translate(395.957,1116.060)\"><circle r=\"10.5\"></circle></g><g id=\"node-133\" transform=\"translate(367.329,963.768)\"><circle r=\"10.5\"></circle></g><g id=\"node-134\" transform=\"translate(374.130,878.889)\"><circle r=\"10.5\"></circle></g><g id=\"node-135\" transform=\"translate(377.434,850.597)\"><circle r=\"10.5\"></circle></g><g id=\"node-136\" transform=\"translate(359.873,386.647)\"><circle r=\"10.5\"></circle></g><g id=\"node-137\" transform=\"translate(373.486,259.591)\"><circle r=\"10.5\"></circle></g><g id=\"node-138\" transform=\"translate(367.319,225.011)\"><circle r=\"10.5\"></circle></g><g id=\"node-139\" transform=\"translate(368.523,187.287)\"><circle r=\"10.5\"></circle></g><g id=\"node-140\" transform=\"translate(368.319,150.612)\"><circle r=\"10.5\"></circle></g><g id=\"node-141\" transform=\"translate(377.314,99.265)\"><circle r=\"10.5\"></circle></g><g id=\"node-142\" transform=\"translate(364.614,70.973)\"><circle r=\"10.5\"></circle></g><g id=\"node-143\" transform=\"translate(357.122,1363.640)\"><circle r=\"10.5\"></circle></g><g id=\"node-144\" transform=\"translate(357.372,1296.994)\"><circle r=\"10.5\"></circle></g><g id=\"node-145\" transform=\"translate(351.991,1113.421)\"><circle r=\"10.5\"></circle></g><g id=\"node-146\" transform=\"translate(363.531,864.743)\"><circle r=\"10.5\"></circle></g><g id=\"node-147\" transform=\"translate(359.892,819.160)\"><circle r=\"10.5\"></circle></g><g id=\"node-148\" transform=\"translate(363.052,787.724)\"><circle r=\"10.5\"></circle></g><g id=\"node-149\" transform=\"translate(361.993,762.575)\"><circle r=\"10.5\"></circle></g><g id=\"node-150\" transform=\"translate(362.356,680.840)\"><circle r=\"10.5\"></circle></g><g id=\"node-151\" transform=\"translate(358.113,548.807)\"><circle r=\"10.5\"></circle></g><g id=\"node-152\" transform=\"translate(334.879,264.634)\"><circle r=\"10.5\"></circle></g><g id=\"node-153\" transform=\"translate(347.767,106.950)\"><circle r=\"10.5\"></circle></g><g id=\"node-154\" transform=\"translate(314.026,915.323)\"><circle r=\"10.5\"></circle></g><g id=\"node-155\" transform=\"translate(314.026,185.792)\"><circle r=\"10.5\"></circle></g><g id=\"node-156\" transform=\"translate(50.000,550.557)\"><circle r=\"0.0\"></circle></g></g><g class=\"toytree-NodeLabels\" style=\"fill:rgb(14.9%,14.9%,14.9%);fill-opacity:1.0;font-size:11.5px;stroke:none\"><g transform=\"translate(430.10,426.00)\"><text>94</text></g><g transform=\"translate(438.46,1023.29)\"><text>100</text></g><g transform=\"translate(397.53,966.71)\"><text>86</text></g><g transform=\"translate(424.09,476.30)\"><text>100</text></g><g transform=\"translate(414.71,451.15)\"><text>98</text></g><g transform=\"translate(426.06,416.57)\"><text>100</text></g><g transform=\"translate(390.90,375.70)\"><text>68</text></g><g transform=\"translate(392.42,1105.03)\"><text>75</text></g><g transform=\"translate(392.94,991.86)\"><text>78</text></g><g transform=\"translate(392.32,941.56)\"><text>100</text></g><g transform=\"translate(374.60,891.26)\"><text>84</text></g><g transform=\"translate(380.83,448.00)\"><text>79</text></g><g transform=\"translate(386.65,326.19)\"><text>97</text></g><g transform=\"translate(363.98,237.38)\"><text>98</text></g><g transform=\"translate(364.39,199.66)\"><text>68</text></g><g transform=\"translate(363.34,136.78)\"><text>56</text></g><g transform=\"translate(371.77,111.63)\"><text>80</text></g><g transform=\"translate(379.76,1413.10)\"><text>90</text></g><g transform=\"translate(364.77,1331.37)\"><text>75</text></g><g transform=\"translate(362.19,1268.50)\"><text>100</text></g><g transform=\"translate(370.60,1243.35)\"><text>100</text></g><g transform=\"translate(383.80,1205.62)\"><text>100</text></g><g transform=\"translate(386.37,1119.00)\"><text>100</text></g><g transform=\"translate(360.94,966.71)\"><text>87</text></g><g transform=\"translate(367.74,881.83)\"><text>98</text></g><g transform=\"translate(371.04,853.53)\"><text>84</text></g><g transform=\"translate(353.48,389.59)\"><text>90</text></g><g transform=\"translate(363.89,262.53)\"><text>100</text></g><g transform=\"translate(357.73,227.95)\"><text>100</text></g><g transform=\"translate(362.13,190.23)\"><text>99</text></g><g transform=\"translate(358.73,153.55)\"><text>100</text></g><g transform=\"translate(367.72,102.20)\"><text>100</text></g><g transform=\"translate(358.22,73.91)\"><text>95</text></g><g transform=\"translate(350.73,1366.58)\"><text>99</text></g><g transform=\"translate(350.98,1299.93)\"><text>98</text></g><g transform=\"translate(345.60,1116.36)\"><text>96</text></g><g transform=\"translate(357.14,867.68)\"><text>72</text></g><g transform=\"translate(350.30,822.10)\"><text>100</text></g><g transform=\"translate(353.46,790.66)\"><text>100</text></g><g transform=\"translate(352.40,765.51)\"><text>100</text></g><g transform=\"translate(352.76,683.78)\"><text>100</text></g><g transform=\"translate(348.52,551.74)\"><text>100</text></g><g transform=\"translate(328.48,267.57)\"><text>81</text></g><g transform=\"translate(341.37,109.89)\"><text>98</text></g><g transform=\"translate(304.43,918.26)\"><text>100</text></g><g transform=\"translate(304.43,188.73)\"><text>100</text></g></g><g class=\"toytree-TipLabels\" style=\"fill:rgb(14.9%,14.9%,14.9%);fill-opacity:1.0;font-family:helvetica;font-size:15px;font-weight:normal;stroke:none;white-space:pre\"><g transform=\"translate(395.30,1435.31)rotate(0)\"><text style=\"fill:rgb(100%,54.9%,0%);fill-opacity:1.0\" x=\"15.00\" y=\"3.83\">KGD3-17A</text></g><g transform=\"translate(407.66,1422.74)rotate(0)\"><text style=\"fill:rgb(100%,54.9%,0%);fill-opacity:1.0\" x=\"15.00\" y=\"3.83\">KGD3-3A</text></g><g transform=\"translate(390.36,1410.17)rotate(0)\"><text style=\"fill:rgb(100%,54.9%,0%);fill-opacity:1.0\" x=\"15.00\" y=\"3.83\">KGD3-23A</text></g><g transform=\"translate(386.82,1397.59)rotate(0)\"><text style=\"fill:rgb(100%,54.9%,0%);fill-opacity:1.0\" x=\"15.00\" y=\"3.83\">KGD3-20A</text></g><g transform=\"translate(392.01,1385.02)rotate(0)\"><text style=\"fill:rgb(100%,54.9%,0%);fill-opacity:1.0\" x=\"15.00\" y=\"3.83\">KGD3-12A</text></g><g transform=\"translate(363.94,1372.44)rotate(0)\"><text style=\"fill:rgb(100%,54.9%,0%);fill-opacity:1.0\" x=\"15.00\" y=\"3.83\">KGD3-16A</text></g><g transform=\"translate(362.65,1359.87)rotate(0)\"><text style=\"fill:rgb(100%,54.9%,0%);fill-opacity:1.0\" x=\"15.00\" y=\"3.83\">KGD3-13A</text></g><g transform=\"translate(364.63,1347.29)rotate(0)\"><text style=\"fill:rgb(100%,54.9%,0%);fill-opacity:1.0\" x=\"15.00\" y=\"3.83\">KGD3-18A</text></g><g transform=\"translate(371.93,1334.72)rotate(0)\"><text style=\"fill:rgb(100%,54.9%,0%);fill-opacity:1.0\" x=\"15.00\" y=\"3.83\">KGD3-2A</text></g><g transform=\"translate(374.59,1322.14)rotate(0)\"><text style=\"fill:rgb(100%,54.9%,0%);fill-opacity:1.0\" x=\"15.00\" y=\"3.83\">KGD3-19A</text></g><g transform=\"translate(362.13,1309.57)rotate(0)\"><text style=\"fill:rgb(64.7%,16.5%,16.5%);fill-opacity:1.0\" x=\"15.00\" y=\"3.83\">KFU7-12K</text></g><g transform=\"translate(387.52,1296.99)rotate(0)\"><text style=\"fill:rgb(64.7%,16.5%,16.5%);fill-opacity:1.0\" x=\"15.00\" y=\"3.83\">KFU7-8KA</text></g><g transform=\"translate(358.12,1284.42)rotate(0)\"><text style=\"fill:rgb(64.7%,16.5%,16.5%);fill-opacity:1.0\" x=\"15.00\" y=\"3.83\">KFU7-5A</text></g><g transform=\"translate(375.85,1271.85)rotate(0)\"><text style=\"fill:rgb(0%,0%,50.2%);fill-opacity:1.0\" x=\"15.00\" y=\"3.83\">KTW1-9A</text></g><g transform=\"translate(372.78,1259.27)rotate(0)\"><text style=\"fill:rgb(0%,0%,50.2%);fill-opacity:1.0\" x=\"15.00\" y=\"3.83\">KTW1-3A</text></g><g transform=\"translate(380.23,1246.70)rotate(0)\"><text style=\"fill:rgb(0%,0%,50.2%);fill-opacity:1.0\" x=\"15.00\" y=\"3.83\">KTW1-15A</text></g><g transform=\"translate(380.53,1234.12)rotate(0)\"><text style=\"fill:rgb(0%,0%,50.2%);fill-opacity:1.0\" x=\"15.00\" y=\"3.83\">KTW1-23A</text></g><g transform=\"translate(382.49,1221.55)rotate(0)\"><text style=\"fill:rgb(0%,0%,50.2%);fill-opacity:1.0\" x=\"15.00\" y=\"3.83\">KTW1-14A</text></g><g transform=\"translate(394.14,1208.97)rotate(0)\"><text style=\"fill:rgb(0%,0%,50.2%);fill-opacity:1.0\" x=\"15.00\" y=\"3.83\">KTW1-11A</text></g><g transform=\"translate(393.43,1196.40)rotate(0)\"><text style=\"fill:rgb(0%,0%,50.2%);fill-opacity:1.0\" x=\"15.00\" y=\"3.83\">KTW1-22A</text></g><g transform=\"translate(374.86,1183.82)rotate(0)\"><text style=\"fill:rgb(0%,0%,50.2%);fill-opacity:1.0\" x=\"15.00\" y=\"3.83\">KTW1-4A</text></g><g transform=\"translate(396.59,1171.25)rotate(0)\"><text style=\"fill:rgb(0%,74.9%,100%);fill-opacity:1.0\" x=\"15.00\" y=\"3.83\">KTW6-5A</text></g><g transform=\"translate(396.74,1158.67)rotate(0)\"><text style=\"fill:rgb(0%,74.9%,100%);fill-opacity:1.0\" x=\"15.00\" y=\"3.83\">KTW6-24A</text></g><g transform=\"translate(397.10,1146.10)rotate(0)\"><text style=\"fill:rgb(0%,74.9%,100%);fill-opacity:1.0\" x=\"15.00\" y=\"3.83\">KTW6-1A</text></g><g transform=\"translate(396.70,1133.52)rotate(0)\"><text style=\"fill:rgb(0%,74.9%,100%);fill-opacity:1.0\" x=\"15.00\" y=\"3.83\">KTW6-15A</text></g><g transform=\"translate(396.00,1120.95)rotate(0)\"><text style=\"fill:rgb(0%,74.9%,100%);fill-opacity:1.0\" x=\"15.00\" y=\"3.83\">KTW6-7A</text></g><g transform=\"translate(398.85,1108.38)rotate(0)\"><text style=\"fill:rgb(0%,74.9%,100%);fill-opacity:1.0\" x=\"15.00\" y=\"3.83\">KTW6-17A</text></g><g transform=\"translate(398.85,1095.80)rotate(0)\"><text style=\"fill:rgb(0%,74.9%,100%);fill-opacity:1.0\" x=\"15.00\" y=\"3.83\">KTW6-2A</text></g><g transform=\"translate(396.36,1083.23)rotate(0)\"><text style=\"fill:rgb(0%,74.9%,100%);fill-opacity:1.0\" x=\"15.00\" y=\"3.83\">KTW6-23A</text></g><g transform=\"translate(396.83,1070.65)rotate(0)\"><text style=\"fill:rgb(0%,74.9%,100%);fill-opacity:1.0\" x=\"15.00\" y=\"3.83\">KTW6-12A</text></g><g transform=\"translate(398.58,1058.08)rotate(0)\"><text style=\"fill:rgb(0%,74.9%,100%);fill-opacity:1.0\" x=\"15.00\" y=\"3.83\">KTW6-18A</text></g><g transform=\"translate(450.77,1045.50)rotate(0)\"><text style=\"fill:rgb(39.2%,58.4%,92.9%);fill-opacity:1.0\" x=\"15.00\" y=\"3.83\">KTW4-20B</text></g><g transform=\"translate(449.94,1032.93)rotate(0)\"><text style=\"fill:rgb(39.2%,58.4%,92.9%);fill-opacity:1.0\" x=\"15.00\" y=\"3.83\">KTW4-22B</text></g><g transform=\"translate(449.02,1020.35)rotate(0)\"><text style=\"fill:rgb(39.2%,58.4%,92.9%);fill-opacity:1.0\" x=\"15.00\" y=\"3.83\">KTW4-24B</text></g><g transform=\"translate(451.77,1007.78)rotate(0)\"><text style=\"fill:rgb(39.2%,58.4%,92.9%);fill-opacity:1.0\" x=\"15.00\" y=\"3.83\">KTW4-21B</text></g><g transform=\"translate(449.44,995.20)rotate(0)\"><text style=\"fill:rgb(39.2%,58.4%,92.9%);fill-opacity:1.0\" x=\"15.00\" y=\"3.83\">KTW4-19B</text></g><g transform=\"translate(402.16,982.63)rotate(0)\"><text style=\"fill:rgb(39.2%,58.4%,92.9%);fill-opacity:1.0\" x=\"15.00\" y=\"3.83\">KTW4-18B</text></g><g transform=\"translate(404.49,970.06)rotate(0)\"><text style=\"fill:rgb(39.2%,58.4%,92.9%);fill-opacity:1.0\" x=\"15.00\" y=\"3.83\">KTW4-17B</text></g><g transform=\"translate(403.96,957.48)rotate(0)\"><text style=\"fill:rgb(39.2%,58.4%,92.9%);fill-opacity:1.0\" x=\"15.00\" y=\"3.83\">KTW4-15B</text></g><g transform=\"translate(402.51,944.91)rotate(0)\"><text style=\"fill:rgb(39.2%,58.4%,92.9%);fill-opacity:1.0\" x=\"15.00\" y=\"3.83\">KTW4-12B</text></g><g transform=\"translate(401.95,932.33)rotate(0)\"><text style=\"fill:rgb(39.2%,58.4%,92.9%);fill-opacity:1.0\" x=\"15.00\" y=\"3.83\">KTW4-13B</text></g><g transform=\"translate(380.67,919.76)rotate(0)\"><text style=\"fill:rgb(0%,0%,50.2%);fill-opacity:1.0\" x=\"15.00\" y=\"3.83\">KTW1-1A</text></g><g transform=\"translate(391.07,907.18)rotate(0)\"><text style=\"fill:rgb(0%,0%,50.2%);fill-opacity:1.0\" x=\"15.00\" y=\"3.83\">KTW1-7A</text></g><g transform=\"translate(384.01,894.61)rotate(0)\"><text style=\"fill:rgb(64.7%,16.5%,16.5%);fill-opacity:1.0\" x=\"15.00\" y=\"3.83\">KFU7-25K</text></g><g transform=\"translate(382.66,882.03)rotate(0)\"><text style=\"fill:rgb(64.7%,16.5%,16.5%);fill-opacity:1.0\" x=\"15.00\" y=\"3.83\">KFU7-10K</text></g><g transform=\"translate(378.26,869.46)rotate(0)\"><text style=\"fill:rgb(64.7%,16.5%,16.5%);fill-opacity:1.0\" x=\"15.00\" y=\"3.83\">KFU7-11K</text></g><g transform=\"translate(382.67,856.88)rotate(0)\"><text style=\"fill:rgb(64.7%,16.5%,16.5%);fill-opacity:1.0\" x=\"15.00\" y=\"3.83\">KFU7-16K</text></g><g transform=\"translate(384.47,844.31)rotate(0)\"><text style=\"fill:rgb(64.7%,16.5%,16.5%);fill-opacity:1.0\" x=\"15.00\" y=\"3.83\">KFU7-21K</text></g><g transform=\"translate(365.96,831.73)rotate(0)\"><text style=\"fill:rgb(100%,84.3%,0%);fill-opacity:1.0\" x=\"15.00\" y=\"3.83\">KGD4-11A</text></g><g transform=\"translate(366.42,819.16)rotate(0)\"><text style=\"fill:rgb(100%,84.3%,0%);fill-opacity:1.0\" x=\"15.00\" y=\"3.83\">KGD4-10</text></g><g transform=\"translate(363.62,806.59)rotate(0)\"><text style=\"fill:rgb(100%,84.3%,0%);fill-opacity:1.0\" x=\"15.00\" y=\"3.83\">KGD4-1A</text></g><g transform=\"translate(367.83,794.01)rotate(0)\"><text style=\"fill:rgb(100%,84.3%,0%);fill-opacity:1.0\" x=\"15.00\" y=\"3.83\">KGD4-19</text></g><g transform=\"translate(366.53,781.44)rotate(0)\"><text style=\"fill:rgb(100%,84.3%,0%);fill-opacity:1.0\" x=\"15.00\" y=\"3.83\">KGD4-24</text></g><g transform=\"translate(364.58,768.86)rotate(0)\"><text style=\"fill:rgb(64.7%,16.5%,16.5%);fill-opacity:1.0\" x=\"15.00\" y=\"3.83\">KFU7-7KA</text></g><g transform=\"translate(363.49,756.29)rotate(0)\"><text style=\"fill:rgb(64.7%,16.5%,16.5%);fill-opacity:1.0\" x=\"15.00\" y=\"3.83\">KFU7-2KA</text></g><g transform=\"translate(362.40,743.71)rotate(0)\"><text style=\"fill:rgb(50.2%,0%,50.2%);fill-opacity:1.0\" x=\"15.00\" y=\"3.83\">KGU1-11A</text></g><g transform=\"translate(362.40,731.14)rotate(0)\"><text style=\"fill:rgb(50.2%,0%,50.2%);fill-opacity:1.0\" x=\"15.00\" y=\"3.83\">KGU1-10A</text></g><g transform=\"translate(364.43,718.56)rotate(0)\"><text style=\"fill:rgb(50.2%,0%,50.2%);fill-opacity:1.0\" x=\"15.00\" y=\"3.83\">KGU1-20A</text></g><g transform=\"translate(362.40,705.99)rotate(0)\"><text style=\"fill:rgb(50.2%,0%,50.2%);fill-opacity:1.0\" x=\"15.00\" y=\"3.83\">KGU1-7A</text></g><g transform=\"translate(362.40,693.41)rotate(0)\"><text style=\"fill:rgb(50.2%,0%,50.2%);fill-opacity:1.0\" x=\"15.00\" y=\"3.83\">KGU1-22A</text></g><g transform=\"translate(364.88,680.84)rotate(0)\"><text style=\"fill:rgb(50.2%,0%,50.2%);fill-opacity:1.0\" x=\"15.00\" y=\"3.83\">KGU1-6A</text></g><g transform=\"translate(364.39,668.27)rotate(0)\"><text style=\"fill:rgb(50.2%,0%,50.2%);fill-opacity:1.0\" x=\"15.00\" y=\"3.83\">KGU1-13A</text></g><g transform=\"translate(365.95,655.69)rotate(0)\"><text style=\"fill:rgb(50.2%,0%,50.2%);fill-opacity:1.0\" x=\"15.00\" y=\"3.83\">KGU1-12A</text></g><g transform=\"translate(363.67,643.12)rotate(0)\"><text style=\"fill:rgb(50.2%,0%,50.2%);fill-opacity:1.0\" x=\"15.00\" y=\"3.83\">KGU1-3A</text></g><g transform=\"translate(362.76,630.54)rotate(0)\"><text style=\"fill:rgb(50.2%,0%,50.2%);fill-opacity:1.0\" x=\"15.00\" y=\"3.83\">KGU1-9A</text></g><g transform=\"translate(369.18,617.97)rotate(0)\"><text style=\"fill:rgb(50.2%,0%,50.2%);fill-opacity:1.0\" x=\"15.00\" y=\"3.83\">KGU1-1A</text></g><g transform=\"translate(361.17,605.39)rotate(0)\"><text style=\"fill:rgb(100%,0%,100%);fill-opacity:1.0\" x=\"15.00\" y=\"3.83\">KHN7-10A</text></g><g transform=\"translate(358.69,592.82)rotate(0)\"><text style=\"fill:rgb(100%,0%,100%);fill-opacity:1.0\" x=\"15.00\" y=\"3.83\">KHN7-19A</text></g><g transform=\"translate(360.81,580.24)rotate(0)\"><text style=\"fill:rgb(100%,0%,100%);fill-opacity:1.0\" x=\"15.00\" y=\"3.83\">KHN7-2A</text></g><g transform=\"translate(359.62,567.67)rotate(0)\"><text style=\"fill:rgb(100%,0%,100%);fill-opacity:1.0\" x=\"15.00\" y=\"3.83\">KHN7-6A</text></g><g transform=\"translate(358.51,555.09)rotate(0)\"><text style=\"fill:rgb(100%,0%,100%);fill-opacity:1.0\" x=\"15.00\" y=\"3.83\">KHN7-16A</text></g><g transform=\"translate(358.15,542.52)rotate(0)\"><text style=\"fill:rgb(100%,0%,100%);fill-opacity:1.0\" x=\"15.00\" y=\"3.83\">KHN7-5A</text></g><g transform=\"translate(360.35,529.94)rotate(0)\"><text style=\"fill:rgb(100%,0%,100%);fill-opacity:1.0\" x=\"15.00\" y=\"3.83\">KHN7-11A</text></g><g transform=\"translate(359.99,517.37)rotate(0)\"><text style=\"fill:rgb(100%,0%,100%);fill-opacity:1.0\" x=\"15.00\" y=\"3.83\">KHN7-22A</text></g><g transform=\"translate(359.97,504.80)rotate(0)\"><text style=\"fill:rgb(100%,0%,100%);fill-opacity:1.0\" x=\"15.00\" y=\"3.83\">KHN7-17A</text></g><g transform=\"translate(366.11,492.22)rotate(0)\"><text style=\"fill:rgb(100%,0%,100%);fill-opacity:1.0\" x=\"15.00\" y=\"3.83\">KHN7-7A</text></g><g transform=\"translate(434.43,479.65)rotate(0)\"><text style=\"fill:rgb(100%,7.84%,57.6%);fill-opacity:1.0\" x=\"15.00\" y=\"3.83\">KHN9-24A</text></g><g transform=\"translate(435.35,467.07)rotate(0)\"><text style=\"fill:rgb(100%,7.84%,57.6%);fill-opacity:1.0\" x=\"15.00\" y=\"3.83\">KHN9-13A</text></g><g transform=\"translate(421.46,454.50)rotate(0)\"><text style=\"fill:rgb(95.7%,64.3%,37.6%);fill-opacity:1.0\" x=\"15.00\" y=\"3.83\">KGD5-6A</text></g><g transform=\"translate(421.59,441.92)rotate(0)\"><text style=\"fill:rgb(95.7%,64.3%,37.6%);fill-opacity:1.0\" x=\"15.00\" y=\"3.83\">KGD5-7A</text></g><g transform=\"translate(436.53,429.35)rotate(0)\"><text style=\"fill:rgb(78%,8.24%,52.2%);fill-opacity:1.0\" x=\"15.00\" y=\"3.83\">KHN11-1A</text></g><g transform=\"translate(442.00,416.77)rotate(0)\"><text style=\"fill:rgb(78%,8.24%,52.2%);fill-opacity:1.0\" x=\"15.00\" y=\"3.83\">KHN11-15A</text></g><g transform=\"translate(435.70,404.20)rotate(0)\"><text style=\"fill:rgb(78%,8.24%,52.2%);fill-opacity:1.0\" x=\"15.00\" y=\"3.83\">KHN11-8A</text></g><g transform=\"translate(381.18,391.62)rotate(0)\"><text style=\"fill:rgb(100%,0%,0%);fill-opacity:1.0\" x=\"15.00\" y=\"3.83\">KHN5-10</text></g><g transform=\"translate(398.65,379.05)rotate(0)\"><text style=\"fill:rgb(100%,0%,0%);fill-opacity:1.0\" x=\"15.00\" y=\"3.83\">KHN5-16A</text></g><g transform=\"translate(398.20,366.48)rotate(0)\"><text style=\"fill:rgb(100%,0%,0%);fill-opacity:1.0\" x=\"15.00\" y=\"3.83\">KHN5-22A</text></g><g transform=\"translate(397.33,353.90)rotate(0)\"><text style=\"fill:rgb(100%,0%,0%);fill-opacity:1.0\" x=\"15.00\" y=\"3.83\">KHN5-15A</text></g><g transform=\"translate(395.59,341.33)rotate(0)\"><text style=\"fill:rgb(100%,0%,0%);fill-opacity:1.0\" x=\"15.00\" y=\"3.83\">KHN5-12A</text></g><g transform=\"translate(393.08,328.75)rotate(0)\"><text style=\"fill:rgb(100%,0%,0%);fill-opacity:1.0\" x=\"15.00\" y=\"3.83\">KHN5-1A</text></g><g transform=\"translate(393.84,316.18)rotate(0)\"><text style=\"fill:rgb(100%,0%,0%);fill-opacity:1.0\" x=\"15.00\" y=\"3.83\">KHN5-17A</text></g><g transform=\"translate(394.65,303.60)rotate(0)\"><text style=\"fill:rgb(100%,0%,0%);fill-opacity:1.0\" x=\"15.00\" y=\"3.83\">KHN5-11A</text></g><g transform=\"translate(395.78,291.03)rotate(0)\"><text style=\"fill:rgb(100%,0%,0%);fill-opacity:1.0\" x=\"15.00\" y=\"3.83\">KHN5-24A</text></g><g transform=\"translate(393.79,278.45)rotate(0)\"><text style=\"fill:rgb(100%,0%,0%);fill-opacity:1.0\" x=\"15.00\" y=\"3.83\">KHN5-13A</text></g><g transform=\"translate(376.35,265.88)rotate(0)\"><text style=\"fill:rgb(100%,7.84%,57.6%);fill-opacity:1.0\" x=\"15.00\" y=\"3.83\">KHN9-12A</text></g><g transform=\"translate(377.14,253.30)rotate(0)\"><text style=\"fill:rgb(100%,7.84%,57.6%);fill-opacity:1.0\" x=\"15.00\" y=\"3.83\">KHN9-7A</text></g><g transform=\"translate(371.57,240.73)rotate(0)\"><text style=\"fill:rgb(100%,7.84%,57.6%);fill-opacity:1.0\" x=\"15.00\" y=\"3.83\">KHN9-10A</text></g><g transform=\"translate(372.31,228.15)rotate(0)\"><text style=\"fill:rgb(100%,7.84%,57.6%);fill-opacity:1.0\" x=\"15.00\" y=\"3.83\">KHN9-14A</text></g><g transform=\"translate(369.27,215.58)rotate(0)\"><text style=\"fill:rgb(100%,7.84%,57.6%);fill-opacity:1.0\" x=\"15.00\" y=\"3.83\">KHN9-17A</text></g><g transform=\"translate(375.09,203.01)rotate(0)\"><text style=\"fill:rgb(100%,7.84%,57.6%);fill-opacity:1.0\" x=\"15.00\" y=\"3.83\">KHN9-22A</text></g><g transform=\"translate(372.39,190.43)rotate(0)\"><text style=\"fill:rgb(100%,7.84%,57.6%);fill-opacity:1.0\" x=\"15.00\" y=\"3.83\">KHN9-21A</text></g><g transform=\"translate(375.59,177.86)rotate(0)\"><text style=\"fill:rgb(100%,7.84%,57.6%);fill-opacity:1.0\" x=\"15.00\" y=\"3.83\">KHN9-20A</text></g><g transform=\"translate(368.36,165.28)rotate(0)\"><text style=\"fill:rgb(93.3%,51%,93.3%);fill-opacity:1.0\" x=\"15.00\" y=\"3.83\">KHN10-10A</text></g><g transform=\"translate(368.36,152.71)rotate(0)\"><text style=\"fill:rgb(93.3%,51%,93.3%);fill-opacity:1.0\" x=\"15.00\" y=\"3.83\">KHN10-24A</text></g><g transform=\"translate(369.77,140.13)rotate(0)\"><text style=\"fill:rgb(93.3%,51%,93.3%);fill-opacity:1.0\" x=\"15.00\" y=\"3.83\">KHN10-15A</text></g><g transform=\"translate(371.35,127.56)rotate(0)\"><text style=\"fill:rgb(93.3%,51%,93.3%);fill-opacity:1.0\" x=\"15.00\" y=\"3.83\">KHN10-23A</text></g><g transform=\"translate(378.20,114.98)rotate(0)\"><text style=\"fill:rgb(93.3%,51%,93.3%);fill-opacity:1.0\" x=\"15.00\" y=\"3.83\">KHN10-18A</text></g><g transform=\"translate(378.20,102.41)rotate(0)\"><text style=\"fill:rgb(93.3%,51%,93.3%);fill-opacity:1.0\" x=\"15.00\" y=\"3.83\">KHN10-17A</text></g><g transform=\"translate(378.32,89.83)rotate(0)\"><text style=\"fill:rgb(93.3%,51%,93.3%);fill-opacity:1.0\" x=\"15.00\" y=\"3.83\">KHN10-13A</text></g><g transform=\"translate(377.75,77.26)rotate(0)\"><text style=\"fill:rgb(93.3%,51%,93.3%);fill-opacity:1.0\" x=\"15.00\" y=\"3.83\">KHN10-1A</text></g><g transform=\"translate(378.42,64.69)rotate(0)\"><text style=\"fill:rgb(93.3%,51%,93.3%);fill-opacity:1.0\" x=\"15.00\" y=\"3.83\">KHN10-22A</text></g></g></g></g></g></svg><div class=\"toyplot-behavior\"><script>(function()\n",
       "{\n",
       "var modules={};\n",
       "})();</script></div></div>"
      ]
     },
     "metadata": {},
     "output_type": "display_data"
    }
   ],
   "source": [
    "# plot the tree for this genome window\n",
    "tre = toytree.tree(rax.trees.bipartitions)\n",
    "#tre = toytree.tree(\"/rigel/dsi/users/slh2181/Pmontana/Analysis/Taiwan/RAxML_bipartitions.TW.SCh_denovo3\")\n",
    "rtre = tre.root([\"KHN10-24A\",\n",
    "\"KHN10-10A\",\n",
    "\"KHN10-23A\",\n",
    "\"KHN10-15A\",\n",
    "\"KHN10-17A\",\n",
    "\"KHN10-18A\",\n",
    "\"KHN10-13A\",\n",
    "\"KHN10-1A\",\n",
    "\"KHN10-22A\",\n",
    "\"KHN9-22A\",\n",
    "\"KHN9-21A\",\n",
    "\"KHN9-20A\",\n",
    "\"KHN9-12A\",\n",
    "\"KHN9-7A\",\n",
    "\"KHN9-17A\",\n",
    "\"KHN9-10A\",\n",
    "\"KHN9-14A\",\n",
    "\"KHN9-24A\",\n",
    "\"KHN9-13A\",\n",
    "\"KHN5-13A\",\n",
    "\"KHN5-24A\",\n",
    "\"KHN5-15A\",\n",
    "\"KHN5-16A\",\n",
    "\"KHN5-22A\",\n",
    "\"KHN5-17A\",\n",
    "\"KHN5-11A\",\n",
    "\"KHN5-1A\",\n",
    "\"KHN5-12A\",\n",
    "\"KHN5-10\",\n",
    "\"KGD5-6A\",\n",
    "\"KGD5-7A\",\n",
    "\"KHN11-1A\",\n",
    "\"KHN11-15A\",\n",
    "\"KHN11-8A\"]).collapse_nodes(min_support=50)\n",
    "\n",
    "colorlist = [\"navy\" if \"KTW1\" in tip else \n",
    "             \"cornflowerblue\" if \"KTW4\" in tip else\n",
    "             \"deepskyblue\" if \"KTW6\" in tip else\n",
    "             \"brown\" if \"KFU7\" in tip else\n",
    "             \"darkorange\" if \"KGD3\" in tip else\n",
    "             \"gold\" if \"KGD4\" in tip else\n",
    "             \"sandybrown\" if \"KGD5\" in tip else\n",
    "             \"purple\" if \"KGU1\" in tip else\n",
    "             \"red\" if \"KHN5\" in tip else\n",
    "             \"deeppink\" if \"KHN9\" in tip else\n",
    "             \"magenta\" if \"KHN7\" in tip else\n",
    "             \"violet\" if \"KHN10\" in tip else\n",
    "             \"mediumvioletred\" for tip in rtre.get_tip_labels()]\n",
    "\n",
    "canvas, axes, mark = rtre.draw(node_labels=\"support\",# use_edge_lengths=False,\n",
    "                        #tip_labels_align=True,              \n",
    "                          node_labels_style={\"font-size\": \"11.5px\"},\n",
    "                        node_sizes=21,\n",
    "                        node_style={\n",
    "                                \"fill\": \"white\",\n",
    "                                \"stroke\": \"black\",\n",
    "                        },\n",
    "                        tip_labels_colors=colorlist,\n",
    "                        tip_labels_style={\"font-size\":\"15px\"},\n",
    "                        width=600, height=1500\n",
    "                              );"
   ]
  },
  {
   "cell_type": "code",
   "execution_count": 9,
   "metadata": {},
   "outputs": [],
   "source": [
    "import toyplot.svg\n",
    "toyplot.svg.render(canvas, \"/rigel/dsi/users/slh2181/Pmontana/Analysis/Taiwan/Taiwan.fullChina_denovo3.svg\")"
   ]
  },
  {
   "cell_type": "code",
   "execution_count": 7,
   "metadata": {
    "scrolled": true
   },
   "outputs": [
    {
     "data": {
      "text/plain": [
       "'((((KHN10-22A:0.000327898,KHN10-1A:0.000312044)95:0.000400213,(KHN10-13A:2.3905e-05,(KHN10-17A:1e-06,KHN10-18A:1e-06)80:2.0116e-05)100:0.000701892,((KHN10-23A:3.85273e-05,KHN10-15A:1e-06)56:3.35257e-05,KHN10-24A:1e-06,KHN10-10A:1e-06)100:0.000488231)98:0.000801545,((KHN9-20A:0.000167864,(KHN9-21A:3.80995e-05,KHN9-22A:0.000102405)68:5.36845e-05)99:0.000799244,(KHN9-17A:4.64429e-05,(KHN9-14A:4.60261e-05,KHN9-10A:2.82721e-05)98:7.26187e-05)100:0.000770631,(KHN9-7A:8.6724e-05,KHN9-12A:6.81377e-05)100:0.000917129,((KHN5-13A:1.78247e-05,KHN5-24A:6.49976e-05,KHN5-11A:3.83353e-05,KHN5-17A:1.89542e-05,KHN5-1A:1e-06,KHN5-12A:6.04654e-05,KHN5-15A:0.000101781,(KHN5-22A:2.16561e-05,KHN5-16A:3.22853e-05)68:0.000100921)97:0.000787933,KHN5-10:0.000506163,((KHN11-8A:1e-06,(KHN11-15A:0.000130914,KHN11-1A:1e-06)94:1.99394e-05)100:0.00115051,(KGD5-7A:1.14246e-05,KGD5-6A:8.55735e-06)98:0.000804898,(KHN9-13A:3.94559e-05,KHN9-24A:1.77809e-05)100:0.00110375)79:0.000649703)90:0.000593746)81:0.000495372)100:0.00627209,((KHN7-7A:0.000190091,KHN7-17A:4.41181e-05,KHN7-22A:4.46582e-05,KHN7-11A:5.30775e-05,KHN7-5A:1e-06,KHN7-16A:9.53255e-06,KHN7-6A:3.58186e-05,KHN7-2A:6.41673e-05,KHN7-19A:1.3761e-05,KHN7-10A:7.26143e-05)100:0.00104731,(KGU1-1A:0.000162195,KGU1-9A:9.55101e-06,KGU1-3A:3.12401e-05,KGU1-12A:8.53784e-05,KGU1-13A:4.834e-05,KGU1-6A:5.99237e-05,KGU1-22A:1e-06,KGU1-7A:1e-06,KGU1-20A:4.93343e-05,KGU1-10A:1e-06,KGU1-11A:1e-06)100:0.0011481,(KFU7-2KA:3.56387e-05,KFU7-7KA:6.1502e-05)100:0.00113948,(KGD4-24:8.26858e-05,KGD4-19:0.000113432)100:0.00116465,(KGD4-1A:8.85665e-05,KGD4-10:0.000155171,KGD4-11A:0.000144041)100:0.00108958,((KFU7-21K:0.000167173,KFU7-16K:0.00012437)84:0.000330254,(KFU7-11K:9.81344e-05,(KFU7-10K:3.9641e-05,KFU7-25K:7.17063e-05)84:0.000162956)98:0.00025177)72:0.00117604,(KTW1-7A:0.000928376,KTW1-1A:0.000681183,((KTW4-13B:1e-06,KTW4-12B:1.43249e-05)100:0.000821392,((KTW4-15B:1e-06,KTW4-17B:1.3498e-05)86:0.000108946,KTW4-18B:6.71481e-05,(KTW4-19B:3.31209e-05,KTW4-21B:8.83318e-05,KTW4-24B:2.30292e-05,KTW4-22B:4.48303e-05,KTW4-20B:6.45468e-05)100:0.00115724)78:0.000760316)87:0.000364379,(KTW6-18A:6.23858e-05,KTW6-12A:2.06931e-05,KTW6-23A:9.53028e-06,(KTW6-2A:1e-06,KTW6-17A:1e-06)75:6.77939e-05,KTW6-7A:1e-06,KTW6-15A:1.77391e-05,KTW6-1A:2.71049e-05,KTW6-24A:1.85359e-05,KTW6-5A:1.50009e-05)100:0.00104444,KTW1-4A:0.000543276,(KTW1-22A:1e-06,KTW1-11A:1.77878e-05)100:0.000983443,KTW1-14A:0.00072464,(KTW1-23A:8.09952e-06,KTW1-15A:1e-06)100:0.00066991,(KTW1-3A:2.3564e-05,KTW1-9A:9.64766e-05)100:0.000470208)96:0.000901875,(KFU7-5A:1.77243e-05,KFU7-8KA:0.000716171,KFU7-12K:0.000112979)98:0.00102971,((KGD3-19A:8.14475e-05,KGD3-2A:1.81535e-05)75:0.000333575,KGD3-18A:0.000178357,KGD3-13A:0.000131398,KGD3-16A:0.000162034,(KGD3-12A:0.000139158,KGD3-20A:1.59327e-05,KGD3-23A:9.99201e-05,KGD3-3A:0.000510947,KGD3-17A:0.000217434)90:0.000689544)99:0.00102378)100:0.00627209);'"
      ]
     },
     "execution_count": 7,
     "metadata": {},
     "output_type": "execute_result"
    }
   ],
   "source": [
    "rtre.newick"
   ]
  },
  {
   "cell_type": "code",
   "execution_count": 8,
   "metadata": {},
   "outputs": [
    {
     "data": {
      "text/plain": [
       "'((((KHN10-22A:0.000327898,KHN10-1A:0.000312044)95:0.000400213,((KHN10-13A:2.3905e-05,(KHN10-17A:1e-06,KHN10-18A:1e-06)80:2.0116e-05)100:0.000701892,((KHN10-24A:1e-06,KHN10-10A:1e-06)41:1e-06,(KHN10-23A:3.85273e-05,KHN10-15A:1e-06)56:3.35257e-05)100:0.000488231)31:0.000328462)98:0.000801545,((KHN9-20A:0.000167864,(KHN9-21A:3.80995e-05,KHN9-22A:0.000102405)68:5.36845e-05)99:0.000799244,((KHN9-17A:4.64429e-05,(KHN9-14A:4.60261e-05,KHN9-10A:2.82721e-05)98:7.26187e-05)100:0.000770631,((KHN9-7A:8.6724e-05,KHN9-12A:6.81377e-05)100:0.000917129,((KHN5-10:0.000506163,((KHN11-8A:1e-06,(KHN11-15A:0.000130914,KHN11-1A:1e-06)94:1.99394e-05)100:0.00115051,((KGD5-7A:1.14246e-05,KGD5-6A:8.55735e-06)98:0.000804898,(KHN9-13A:3.94559e-05,KHN9-24A:1.77809e-05)100:0.00110375)8:0.000206464)79:0.000649703)1:0.00013514,((KHN5-13A:1.78247e-05,(KHN5-11A:3.83353e-05,KHN5-17A:1.89542e-05)33:8.05449e-05)9:0.000138454,(KHN5-24A:6.49976e-05,(KHN5-1A:1e-06,(KHN5-12A:6.04654e-05,(KHN5-15A:0.000101781,(KHN5-22A:2.16561e-05,KHN5-16A:3.22853e-05)68:0.000100921)9:0.000135016)9:0.000106446)2:1e-06)0:1e-06)97:0.000787933)90:0.000593746)36:0.000279563)38:0.00036707)81:0.000495372)100:0.00627209,(((KHN7-7A:0.000190091,((KHN7-17A:4.41181e-05,(KHN7-11A:5.30775e-05,(KHN7-16A:9.53255e-06,KHN7-6A:3.58186e-05)0:1e-06)3:6.49291e-05)0:7.53141e-05,(KHN7-22A:4.46582e-05,(KHN7-5A:1e-06,(KHN7-2A:6.41673e-05,(KHN7-19A:1.3761e-05,KHN7-10A:7.26143e-05)3:1.06352e-05)3:3.9444e-05)1:0.000115443)1:6.30505e-05)25:0.000131022)100:0.00104731,(KGU1-1A:0.000162195,((KGU1-9A:9.55101e-06,(KGU1-3A:3.12401e-05,KGU1-12A:8.53784e-05)13:8.35025e-05)7:0.000181305,((KGU1-13A:4.834e-05,KGU1-6A:5.99237e-05)7:5.71049e-05,(KGU1-22A:1e-06,(KGU1-7A:1e-06,(KGU1-20A:4.93343e-05,(KGU1-10A:1e-06,KGU1-11A:1e-06)25:3.94944e-05)19:0.000182175)4:6.78894e-05)2:7.00817e-05)9:0.000173728)7:6.55624e-05)100:0.0011481)47:0.000382778,(((KFU7-2KA:3.56387e-05,KFU7-7KA:6.1502e-05)100:0.00113948,((KGD4-1A:8.85665e-05,(KGD4-10:0.000155171,KGD4-11A:0.000144041)3:1e-06)100:0.00108958,((KFU7-5A:1.77243e-05,(KFU7-8KA:0.000716171,KFU7-12K:0.000112979)0:1e-06)98:0.00102971,((KGD3-19A:8.14475e-05,KGD3-2A:1.81535e-05)75:0.000333575,(KGD3-18A:0.000178357,(KGD3-13A:0.000131398,(KGD3-16A:0.000162034,((KGD3-12A:0.000139158,KGD3-20A:1.59327e-05)5:1e-06,(KGD3-23A:9.99201e-05,(KGD3-3A:0.000510947,KGD3-17A:0.000217434)0:1e-06)0:6.72283e-05)90:0.000689544)0:8.13989e-05)0:0.000131924)0:5.53445e-05)99:0.00102378)15:0.000235054)4:0.000274896)0:0.00020103,((KGD4-24:8.26858e-05,KGD4-19:0.000113432)100:0.00116465,(((KFU7-21K:0.000167173,KFU7-16K:0.00012437)84:0.000330254,(KFU7-11K:9.81344e-05,(KFU7-10K:3.9641e-05,KFU7-25K:7.17063e-05)84:0.000162956)98:0.00025177)72:0.00117604,(KTW1-7A:0.000928376,((KTW1-1A:0.000681183,((KTW4-13B:1e-06,KTW4-12B:1.43249e-05)100:0.000821392,((KTW4-15B:1e-06,KTW4-17B:1.3498e-05)86:0.000108946,(KTW4-18B:6.71481e-05,(KTW4-19B:3.31209e-05,(KTW4-21B:8.83318e-05,(KTW4-24B:2.30292e-05,(KTW4-22B:4.48303e-05,KTW4-20B:6.45468e-05)13:7.8919e-05)19:7.8115e-05)27:8.03498e-05)100:0.00115724)0:1e-06)78:0.000760316)87:0.000364379)33:0.000282961,(((KTW1-4A:0.000543276,(KTW1-22A:1e-06,KTW1-11A:1.77878e-05)100:0.000983443)2:0.00015757,(KTW1-14A:0.00072464,((KTW1-23A:8.09952e-06,KTW1-15A:1e-06)100:0.00066991,(KTW1-3A:2.3564e-05,KTW1-9A:9.64766e-05)100:0.000470208)45:0.00023773)14:0.000256252)9:0.00023132,((KTW6-18A:6.23858e-05,(KTW6-23A:9.53028e-06,(KTW6-7A:1e-06,(KTW6-24A:1.85359e-05,KTW6-5A:1.50009e-05)1:1e-06)28:2.16686e-05)26:0.000125661)20:6.93812e-05,(KTW6-12A:2.06931e-05,((KTW6-15A:1.77391e-05,KTW6-1A:2.71049e-05)19:1e-06,(KTW6-2A:1e-06,KTW6-17A:1e-06)75:6.77939e-05)35:9.19305e-05)23:8.95759e-05)100:0.00104444)15:0.00028222)37:0.000367827)96:0.000901875)0:0.000267864)0:0.000315961)5:0.000208345)100:0.00627209);'"
      ]
     },
     "execution_count": 8,
     "metadata": {},
     "output_type": "execute_result"
    }
   ],
   "source": [
    "tre.root([\"KHN10-24A\",\n",
    "\"KHN10-10A\",\n",
    "\"KHN10-23A\",\n",
    "\"KHN10-15A\",\n",
    "\"KHN10-17A\",\n",
    "\"KHN10-18A\",\n",
    "\"KHN10-13A\",\n",
    "\"KHN10-1A\",\n",
    "\"KHN10-22A\",\n",
    "\"KHN9-22A\",\n",
    "\"KHN9-21A\",\n",
    "\"KHN9-20A\",\n",
    "\"KHN9-12A\",\n",
    "\"KHN9-7A\",\n",
    "\"KHN9-17A\",\n",
    "\"KHN9-10A\",\n",
    "\"KHN9-14A\",\n",
    "\"KHN9-24A\",\n",
    "\"KHN9-13A\",\n",
    "\"KHN5-13A\",\n",
    "\"KHN5-24A\",\n",
    "\"KHN5-15A\",\n",
    "\"KHN5-16A\",\n",
    "\"KHN5-22A\",\n",
    "\"KHN5-17A\",\n",
    "\"KHN5-11A\",\n",
    "\"KHN5-1A\",\n",
    "\"KHN5-12A\",\n",
    "\"KHN5-10\",\n",
    "\"KGD5-6A\",\n",
    "\"KGD5-7A\",\n",
    "\"KHN11-1A\",\n",
    "\"KHN11-15A\",\n",
    "\"KHN11-8A\"]).newick"
   ]
  },
  {
   "cell_type": "markdown",
   "metadata": {},
   "source": [
    "# Now do consensus reduce to get a topology for BPP"
   ]
  },
  {
   "cell_type": "code",
   "execution_count": null,
   "metadata": {},
   "outputs": [],
   "source": [
    "import ipyrad as ip\n",
    "import ipyrad.analysis as ipa\n",
    "import pandas as pd\n",
    "import toytree\n",
    "\n",
    "print('ipyrad', ipa.__version__)"
   ]
  },
  {
   "cell_type": "code",
   "execution_count": 2,
   "metadata": {},
   "outputs": [],
   "source": [
    "# first load the data file with no other arguments to see scaffold table\n",
    "data = \"/rigel/dsi/users/slh2181/Pmontana/kudzu91_noHC_min20_100Loci_outfiles/kudzu91_noHC_min20_100Loci.seqs.hdf5\"\n",
    "OUTDIR = \"/rigel/dsi/users/slh2181/Pmontana/Analysis/Taiwan\""
   ]
  },
  {
   "cell_type": "code",
   "execution_count": 4,
   "metadata": {},
   "outputs": [],
   "source": [
    "# group individuals into populations\n",
    "imap = { \n",
    "#\"AL12\": [\"AL12-10KA\",\"AL12-10KA\",\"AL12-12KA\",\"AL12-14KA\",\"AL12-16KA\",\"AL12-18KA\",\"AL12-19KA\",\"AL12-1KA\",\"AL12-5KA\",\"AL12-6KA\"],\n",
    "#\"AL5\": [\"AL5-11KA\",\"AL5-14KA\",\"AL5-15KA\",\"AL5-16KA\",\"AL5-18KA\",\"AL5-19KA\",\"AL5-1KA\",\"AL5-21KA\",\"AL5-2KA\",\"AL5-2KA\",\"AL5-5KA\"],\n",
    "#\"AR2\": [\"AR2-10KA\",\"AR2-18KA\",\"AR2-1KA\",\"AR2-22KA\",\"AR2-2KA\",\"AR2-2KA\",\"AR2-3KA\"],\n",
    "#\"FL3\": [\"FL3-17K\",\"FL3-1KA\",\"FL3-4KA\",\"FL3-7KA\",\"FL3-8K\"],\n",
    "#\"GA3\": [\"GA3-10K\",\"GA3-11K\",\"GA3-13K\",\"GA3-17K\",\"GA3-21K\",\"GA3-23K\",\"GA3-24K\"],\n",
    "#\"GA34\": [\"GA34-11A\",\"GA34-12A\",\"GA34-13A\",\"GA34-19A\",\"GA34-22A\",\"GA34-23A\",\"GA34-2A\",\"GA34-6A\",\"GA34-7A\",\"GA34-9A\"],\n",
    "#\"GA36\": [\"GA36-10KA\",\"GA36-13KA\",\"GA36-14KA\",\"GA36-21KA\",\"GA36-3KA\",\"GA36-6KA\",\"GA36-6KA\"],\n",
    "#\"GA3\": [\"GA3-7K\"],\n",
    "#\"GA96\": [\"GA96-10KA\",\"GA96-10KA\",\"GA96-11KA\",\"GA96-12KA\",\"GA96-14KA\",\"GA96-16KA\",\"GA96-20KA\",\"GA96-23KA\",\"GA96-2KA\",\"GA96-3KA\",\"GA96-4KA\",\"GA96-8KA\",\"GA96-9KA\"],\n",
    "#\"KY11\": [\"KY11-11KA\",\"KY11-11KA\",\"KY11-12KA\",\"KY11-13KA\",\"KY11-14KA\",\"KY11-16KA\",\"KY11-17KA\",\"KY11-20KA\",\"KY11-4KA\",\"KY11-7KA\",\"KY11-8KA\"],\n",
    "#\"KY7\": [\"KY7-12KC\",\"KY7-14KC\",\"KY7-17KC\",\"KY7-20KC\",\"KY7-20KC\",\"KY7-8KC\"],\n",
    "#\"KY8\": [\"KY8-12KB\",\"KY8-13KB\",\"KY8-14KB\",\"KY8-17KB\",\"KY8-1KB\",\"KY8-22KC\",\"KY8-23KC\",\"KY8-24KC\",\"KY8-7KB\",\"KY8-8KB\"],\n",
    "#\"NY4\": [\"NY4-18K\",\"NY4-1K\",\"NY4-1K\",\"NY4-23K\",\"NY4-4K\",\"NY4-9K\"],\n",
    "#\"OK1\": [\"OK1-10KA\",\"OK1-15KA\",\"OK1-20KA\",\"OK1-24K\",\"OK1-24K\",\"OK1-5KA\"],\n",
    "#\"SC4\": [\"SC4-11K\",\"SC4-11K\",\"SC4-15KB\",\"SC4-17KB\",\"SC4-18KB\",\"SC4-20KB\",\"SC4-22K\",\"SC4-2KA\",\"SC4-3K\",\"SC4-4K\",\"SC4-5K\",\"SC4-9K\"],\n",
    "#\"TN6\": [\"TN6-11K\",\"TN6-15KA\",\"TN6-1K\",\"TN6-21K\",\"TN6-24K\",\"TN6-2K\",\"TN6-9K\"],\n",
    "#\"TN8\": [\"TN8-10KA\",\"TN8-10KA\",\"TN8-11KA\",\"TN8-13KA\",\"TN8-14KA\",\"TN8-15KA\",\"TN8-20KA\",\"TN8-23KA\",\"TN8-24KA\",\"TN8-27KA\",\"TN8-3KA\",\"TN8-9KA\"],\n",
    "#\"TX4\": [\"TX4-10KA\",\"TX4-11KA\",\"TX4-13KA\",\"TX4-14KA\",\"TX4-19KA\",\"TX4-1KA\",\"TX4-20KA\",\"TX4-21A\",\"TX4-21A\",\"TX4-21KA\",\"TX4-2KA\",\"TX4-3KA\",\"TX4-7KA\"],\n",
    "#\"TX5\": [\"TX5-10KA\",\"TX5-10KA\",\"TX5-11KA\",\"TX5-14KA\",\"TX5-15KA\",\"TX5-17KA\",\"TX5-1KA\",\"TX5-24KA\",\"TX5-25KA\",\"TX5-7KA\",\"TX5-8KA\"],\n",
    "#\"WV1\": [\"WV1-12KA\",\"WV1-19KAC1\",\"WV1-20KA\",\"WV1-20KA\",\"WV1-21KAC\",\"WV1-22K\",\"WV1-23KAC\",\"WV1-24KAC\",\"WV1-7KAC1\",\"WV1-8KAC1\"],\n",
    "#\"MD1\": [\"MD1-10K\",\"MD1-11K\",\"MD1-12K\",\"MD1-18K\",\"MD1-19K\",\"MD1-1K\",\"MD1-22K\",\"MD1-24K\",\"MD1-4K\",\"MD1-9K\"],\n",
    "#\"MO1\": [\"MO1-14KA\",\"MO1-1KA\",\"MO-18KA\"],\n",
    "#\"MS4\": [\"MS4-12KA\",\"MS4-12KA\",\"MS4-16KA\",\"MS4-17KA\",\"MS4-1KA\",\"MS4-20KA\",\"MS4-23KA\",\"MS4-24KA\",\"MS4-5KA\",\"MS4-6KA\",\"MS4-7KA\"],\n",
    "#\"MS6\": [\"MS6-11KA\",\"MS6-15KA\",\"MS6-21KA\",\"MS6-21KA\",\"MS6-3KB\",\"MS6-4KA\",\"MS6-5KA\",\"MS6-7KB\",\"MS6-8KB\"],\n",
    "#\"NC13\": [\"NC13-15KA\",\"NC13-15KA\",\"NC13-16KA\",\"NC13-19KA\",\"NC13-1KA\",\"NC13-21KA\",\"NC13-24KA\",\"NC13-2KA\",\"NC13-6KA\",\"NC13-8KA\"],\n",
    "#\"NC20\": [\"NC20-14KA\",\"NC20-14KA\",\"NC20-15KA\",\"NC20-17KA\",\"NC20-18KA\",\"NC20-1KA\",\"NC20-25KA\",\"NC20-26KAMS\",\"NC20-28KAMS\",\"NC20-34KAMS\",\"NC20-3KA\",\"NC20-7KA\"],\n",
    "#\"NC21\": [\"NC21-10K\",\"NC21-10K\",\"NC21-11K\",\"NC21-1K\",\"NC21-8K\",\"NC21-9K\"],\n",
    "#\"NC3\": [\"NC3-14K\",\"NC3-14K\",\"NC3-15K\",\"NC3-16K\",\"NC3-17K\",\"NC3-19K\",\"NC3-22K\",\"NC3-24K\",\"NC3-4K\",\"NC3-5K\",\"NC3-6K\",\"NC3-9K\"],\n",
    "#\"NC6\": [\"NC6-11KA\",\"NC6-11KA\",\"NC6-15KA\",\"NC6-19KA\",\"NC6-1KA\",\"NC6-24KA\",\"NC6-25KA\",\"NC6-2KA\",\"NC6-5KA\",\"NC6-6KA\",\"NC6-7KA\",\"NC6-9K\"],\n",
    "#\"NE1\": [\"NE1-1A\",\"NE1-2A\",\"NE1-3A\",\"NE1-4A\",\"NE1-5A\"],\n",
    "#\"KJP11\": [\"KJP11-10A\",\"KJP11-10A\",\"KJP11-13A\",\"KJP11-16A\",\"KJP11-18A\",\"KJP11-20A\",\"KJP11-21A\",\"KJP11-22A\",\"KJP11-3A\",\"KJP11-5A\",\"KJP11-7A\"],\n",
    "#\"KJP14\": [\"KJP14-11A\",\"KJP14-11A\",\"KJP14-12A\",\"KJP14-14A\",\"KJP14-15A\",\"KJP14-17A\",\"KJP14-19A\",\"KJP14-1A\",\"KJP14-20A\",\"KJP14-3A\",\"KJP14-8A\"],\n",
    "#\"KJP17\": [\"KJP17-11A\",\"KJP17-12A\",\"KJP17-19A\",\"KJP17-1A\",\"KJP17-23A\"],\n",
    "#\"KJP18\": [\"KJP18-10A\",\"KJP18-10A\",\"KJP18-11A\",\"KJP18-13A\",\"KJP18-17A\",\"KJP18-1A\",\"KJP18-21A\",\"KJP18-24A\",\"KJP18-25\",\"KJP18-4A\",\"KJP18-9A\"],\n",
    "#\"KJP2\": [\"KJP2-11A\",\"KJP2-16A\",\"KJP2-17A\",\"KJP2-18A\",\"KJP2-1A\",\"KJP2-22A\",\"KJP2-23A\",\"KJP22-5A\",\"KJP2-25A\",\"KJP22-9A\",\"KJP2-2A\"],\n",
    "#\"KJP22\": [\"KJP22-10A\",\"KJP22-14A\",\"KJP22-17A\",\"KJP22-18A\",\"KJP22-19A\",\"KJP22-21A\",\"KJP22-22A\",\"KJP22-23A\",\"KJP2-22A\",\"KJP2-23A\",\"KJP22-5A\",\"KJP2-25A\",\"KJP22-9A\"],\n",
    "#\"KJP23\": [\"KJP23-10A\",\"KJP23-10A\",\"KJP23-12A\",\"KJP23-13A\",\"KJP23-18A\",\"KJP23-19A\",\"KJP23-1A\",\"KJP23-3A\",\"KJP23-3A\",\"KJP23-4A\",\"KJP23-5A\",\"KJP23-7A\"],\n",
    "#\"KJP25\": [\"KJP25-10A\",\"KJP25-12A\",\"KJP25-15A\",\"KJP25-16A\",\"KJP25-19A\",\"KJP25-22A\",\"KJP25-22A\",\"KJP25-23A\",\"KJP25-25A\",\"KJP25-4A\",\"KJP25-6A\"],\n",
    "#\"KJP27\": [\"KJP27-11A\",\"KJP27-14A\",\"KJP27-18A\",\"KJP27-1A\",\"KJP27-22A\",\"KJP27-24A\",\"KJP27-6A\",\"KJP27-8A\",\"KJP27-9A\"],\n",
    "#\"KJP3\": [\"KJP3-11A\",\"KJP3-11A\",\"KJP3-12A\",\"KJP3-13A\",\"KJP3-16A\",\"KJP3-17A\",\"KJP3-20A\",\"KJP3-21A\",\"KJP3-22A\",\"KJP3-2A\",\"KJP3-3A\"],\n",
    "#\"KJP5\": [\"KJP5-14A\",\"KJP5-15A\",\"KJP5-19A\",\"KJP5-1A\",\"KJP5-23A\",\"KJP5-4\",\"KJP5-5\",\"KJP5-6\",\"KJP5-7A\",\"KJP5-9A\"],\n",
    "#\"KJP8\": [\"KJP8-11A\",\"KJP8-13A\",\"KJP8-17A\",\"KJP8-18A\",\"KJP8-1A\",\"KJP8-20A\",\"KJP8-23A\",\"KJP8-5A\",\"KJP8-7A\",\"KJP8-8A\"],\n",
    "#\"KKO19\": [\"KKO19-11\",\"KKO19-11A\",\"KKO19-12\",\"KKO19-13\",\"KKO19-18\",\"KKO19-1A\",\"KKO19-21\",\"KKO19-22\",\"KKO19-23\",\"KKO19-4A\",\"KKO19-9A\"],\n",
    "#\"KKO22\": [\"KKO22-10\",\"KKO22-10B\",\"KKO22-11\",\"KKO22-12\",\"KKO22-16\",\"KKO22-19\",\"KKO22-1A\",\"KKO22-23\",\"KKO22-24\",\"KKO22-4B\",\"KKO22-6B\"],\n",
    "#\"KKO3\": [\"KKO3-10A\",\"KKO3-10A\",\"KKO3-11A\",\"KKO3-12A\",\"KKO3-14A\",\"KKO3-15A\",\"KKO3-19A\",\"KKO3-1A\",\"KKO3-20A\",\"KKO3-21A\",\"KKO3-3A\"],\n",
    "#\"KKO5\": [\"KKO5-10A\",\"KKO5-10A\",\"KKO5-13A\",\"KKO5-14A\",\"KKO5-18A\",\"KKO5-19A\",\"KKO5-21A\",\"KKO-5-22A\",\"KKO5-24A\",\"KKO5-2A\",\"KKO5-3A\"],\n",
    "#\"KKO6\": [\"KKO6-10\",\"KKO6-10\",\"KKO6-13\",\"KKO6-16\",\"KKO6-2\",\"KKO6-23\",\"KKO6-4\",\"KKO6-6\",\"KKO6-7\",\"KKO6-8\",\"KKO6-9\"],\n",
    "#\"KLN1\": [\"KLN1-13KB\",\"KLN1-18KB\",\"KLN1-1KB\"],\n",
    "#\"KLN2\": [\"KLN2-1A\",\"KLN2-1A\",\"KLN2-2A\",\"KLN2-3A\",\"KLN2-4A\",\"KLN2-5A\"],\n",
    "#\"KSA1\": [\"KSA1-10A\",\"KSA1-10A\",\"KSA1-11\",\"KSA1-12\",\"KSA1-14\",\"KSA1-18\",\"KSA1-1A\",\"KSA1-2\",\"KSA1-21\",\"KSA1-22\",\"KSA1-24\"],\n",
    "#\"KSA2\": [\"KSA2-10A\",\"KSA2-10A\",\"KSA2-12\",\"KSA2-13\",\"KSA2-14\",\"KSA2-15\",\"KSA2-16\",\"KSA2-19\",\"KSA2-20\",\"KSA2-22\",\"KSA2-27\"],\n",
    "#\"KSA3\": [\"KSA3-11A\",\"KSA3-12A\",\"KSA3-13A\",\"KSA3-14A\",\"KSA3-15A\",\"KSA3-19A\",\"KSA3-1A\",\"KSA3-3A\",\"KSA3-5A\",\"KSA3-8A\"],\n",
    "#\"KSC1\": [\"KSC1-11A\",\"KSC1-14A\",\"KSC1-19A\",\"KSC1-20A\",\"KSC1-21A\",\"KSC1-22A\",\"KSC1-24A\",\"KSC1-6A\",\"KSC1-7A\",\"KSC1-8A\"],\n",
    "#\"KSC4\": [\"KSC4-10KB\",\"KSC4-12KB\",\"KSC4-16KB\",\"KSC4-1KB\",\"KSC4-20KB\",\"KSC4-21KB\",\"KSC4-5KB\",\"KSC4-6KB\",\"KSC4-7KB\",\"KSC4-8KB\"],\n",
    "#\"KSD1\": [\"KSD1-10\",\"KSD1-10\",\"KSD1-12\",\"KSD1-13\",\"KSD1-14\",\"KSD1-15\",\"KSD1-19\",\"KSD1-20\",\"KSD1-23\",\"KSD1-24\",\"KSD1-25\"],\n",
    "#\"KSD2\": [\"KSD2-10A\",\"KSD2-11A\",\"KSD2-12A\",\"KSD2-13A\"],\n",
    "#\"KYU2\": [\"KYU2-10A\",\"KYU2-16A\",\"KYU2-18A\",\"KYU2-19A\",\"KYU2-21A\",\"KYU2-22A\",\"KYU2-3A\",\"KYU2-5A\",\"KYU2-6A\",\"KYU2-9A\"],\n",
    "#\"KYU7\": [\"KYU7-10A\",\"KYU7-13A\",\"KYU7-14A\",\"KYU7-17A\",\"KYU7-17A\",\"KYU7-18A\",\"KYU7-19A\",\"KYU7-1A\",\"KYU7-21A\",\"KYU7-2A\",\"KYU7-6A\"],\n",
    "#\"KZH10\": [\"KZH10-10A\",\"KZH10-10A\",\"KZH10-12A\",\"KZH10-12A\",\"KZH10-14A\",\"KZH10-16A\",\"KZH10-18A\",\"KZH10-19A\",\"KZH10-23A\",\"KZH10-4A\",\"KZH10-6A\",\"KZH10-8A\"],\n",
    "#\"KZH8\": [\"KZH8-11A\",\"KZH8-11A\",\"KZH8-13A\",\"KZH8-14A\",\"KZH8-16A\",\"KZH8-18A\",\"KZH8-19A\",\"KZH8-20A\",\"KZH8-21A\",\"KZH8-22A\",\"KZH8-8A\"],\n",
    "#\"KAN1\": [\"KAN1-10A\",\"KAN1-11\",\"KAN1-15A\",\"KAN1-20\",\"KAN1-3\"],\n",
    "#\"KAN4\": [\"KAN4-14A\",\"KAN4-20A\",\"KAN4-23A\"],\n",
    "#\"KAN5\": [\"KAN5-1A\",\"KAN5-1A\",\"KAN5-2A\",\"KAN5-3A\",\"KAN5-4A\",\"KAN5-5A\"],\n",
    "#\"KB1\": [\"KB1-1\",\"KB1-1\",\"KB1-10\",\"KB1-13\",\"KB1-14\",\"KB1-4\"],\n",
    "\"KFU7\": [\"KFU7-10K\",\"KFU7-11K\",\"KFU7-12K\",\"KFU7-16K\",\"KFU7-21K\",\"KFU7-25K\",\"KFU7-2KA\",\"KFU7-5A\",\"KFU7-7KA\",\"KFU7-8KA\"],\n",
    "\"KGD3\": [\"KGD3-12A\",\"KGD3-13A\",\"KGD3-16A\",\"KGD3-17A\",\"KGD3-18A\",\"KGD3-19A\",\"KGD3-20A\",\"KGD3-23A\",\"KGD3-2A\",\"KGD3-3A\"],#\"KGD3-5A\"],\n",
    "\"KGD4\": [\"KGD4-10\",\"KGD4-11A\",\"KGD4-19\",\"KGD4-1A\",\"KGD4-24\"], #\"KGD4-13A\",\"KGD4-14A\",\"KGD4-23\",\"KGD4-2A\",\"KGD4-7A\"\n",
    "\"KGD5\": [\"KGD5-6A\",\"KGD5-7A\"],\n",
    "\"KGU1\": [\"KGU1-10A\",\"KGU1-11A\",\"KGU1-12A\",\"KGU1-13A\",\"KGU1-1A\",\"KGU1-20A\",\"KGU1-22A\",\"KGU1-3A\",\"KGU1-6A\",\"KGU1-7A\",\"KGU1-9A\"],\n",
    "\"KHN10\": [\"KHN10-10A\",\"KHN10-13A\",\"KHN10-15A\",\"KHN10-17A\",\"KHN10-18A\",\"KHN10-1A\",\"KHN10-22A\",\"KHN10-23A\",\"KHN10-24A\"],#\"KHN10-7A\"],\n",
    "\"KHN11\": [\"KHN11-15A\",\"KHN11-1A\",\"KHN11-8A\"],#\"KHN11-6A\",\n",
    "\"KHN5\": [\"KHN5-10\",\"KHN5-11A\",\"KHN5-12A\",\"KHN5-13A\",\"KHN5-15A\",\"KHN5-16A\",\"KHN5-17A\",\"KHN5-1A\",\"KHN5-22A\",\"KHN5-24A\"],\n",
    "\"KHN7\": [\"KHN7-10A\",\"KHN7-11A\",\"KHN7-16A\",\"KHN7-17A\",\"KHN7-19A\",\"KHN7-22A\",\"KHN7-2A\",\"KHN7-5A\",\"KHN7-6A\",\"KHN7-7A\"],\n",
    "\"KHN9\": [\"KHN9-10A\",\"KHN9-12A\",\"KHN9-13A\",\"KHN9-14A\",\"KHN9-17A\",\"KHN9-20A\",\"KHN9-21A\",\"KHN9-22A\",\"KHN9-24A\",\"KHN9-7A\"],\n",
    "#\"KHU3\": [\"KHU-16A\",\"KHU3-11A\",\"KHU3-11A\",\"KHU3-12A\",\"KHU3-13A\",\"KHU3-14A\",\"KHU3-15A\",\"KHU3-17A\",\"KHU3-19A\",\"KHU3-1A\",\"KHU3-2A\"],\n",
    "#\"KHU2\": [\"KHU2-10A\",\"KHU2-10A\",\"KHU2-11A\",\"KHU2-14A\",\"KHU2-15A\",\"KHU2-16A\",\"KHU2-22A\",\"KHU2-2A\",\"KHU2-4A\",\"KHU2-6A\",\"KHU2-9A\"],\n",
    "#\"KJI2\": [\"KJI2-11A\",\"KJI2-11A\",\"KJI2-13A\",\"KJI2-14A\",\"KJI2-15A\",\"KJI2-16A\",\"KJI2-18A\",\"KJI2-24A\",\"KJI2-25A\",\"KJI2-6A\",\"KJI2-7A\"],\n",
    "#\"KJI5\": [\"KJI5-10A\",\"KJI5-10A\",\"KJI5-11A\",\"KJI5-18A\",\"KJI5-24A\",\"KJI5-2A\"],\n",
    "#\"KJIX2\": [\"KJIX2-12A\",\"KJIX2-12A\",\"KJIX2-15A\",\"KJIX2-17A\",\"KJIX2-1A\",\"KJIX2-23A\",\"KJIX2-24A\",\"KJIX2-25A\",\"KJIX2-26A\",\"KJIX2-28A\",\"KJIX2-3A\"],\n",
    "\"KTW1\": [\"KTW1-11A\",\"KTW1-14A\",\"KTW1-15A\",\"KTW1-1A\",\"KTW1-22A\",\"KTW1-23A\",\"KTW1-3A\",\"KTW1-4A\",\"KTW1-7A\",\"KTW1-9A\"],\n",
    "\"KTW4\": [\"KTW4-12B\",\"KTW4-13B\",\"KTW4-15B\",\"KTW4-17B\",\"KTW4-18B\",\"KTW4-19B\",\"KTW4-20B\",\"KTW4-21B\",\"KTW4-22B\",\"KTW4-24B\"],\n",
    "\"KTW6\": [\"KTW6-12A\",\"KTW6-15A\",\"KTW6-17A\",\"KTW6-18A\",\"KTW6-1A\",\"KTW6-23A\",\"KTW6-24A\",\"KTW6-2A\",\"KTW6-5A\",\"KTW6-7A\"],\n",
    "#\"NI1\": [\"NI1-8K\",\"NI2-14K\"],\n",
    "#\"soybean\":[\"soybean\"] #If I include this, it makes a samples called soybean that is entirely missing data and raxml quits1\n",
    "}"
   ]
  },
  {
   "cell_type": "code",
   "execution_count": 8,
   "metadata": {},
   "outputs": [
    {
     "name": "stdout",
     "output_type": "stream",
     "text": [
      "Wrote data to /rigel/dsi/users/slh2181/Pmontana/Analysis/Taiwan/TW.SCh_denovo_CR.phy\n"
     ]
    },
    {
     "data": {
      "text/html": [
       "<div>\n",
       "<style scoped>\n",
       "    .dataframe tbody tr th:only-of-type {\n",
       "        vertical-align: middle;\n",
       "    }\n",
       "\n",
       "    .dataframe tbody tr th {\n",
       "        vertical-align: top;\n",
       "    }\n",
       "\n",
       "    .dataframe thead th {\n",
       "        text-align: right;\n",
       "    }\n",
       "</style>\n",
       "<table border=\"1\" class=\"dataframe\">\n",
       "  <thead>\n",
       "    <tr style=\"text-align: right;\">\n",
       "      <th></th>\n",
       "      <th>scaffold</th>\n",
       "      <th>start</th>\n",
       "      <th>end</th>\n",
       "      <th>sites</th>\n",
       "      <th>snps</th>\n",
       "      <th>missing</th>\n",
       "      <th>samples</th>\n",
       "    </tr>\n",
       "  </thead>\n",
       "  <tbody>\n",
       "    <tr>\n",
       "      <th>0</th>\n",
       "      <td>concatenated</td>\n",
       "      <td>0</td>\n",
       "      <td>3187245</td>\n",
       "      <td>3187245</td>\n",
       "      <td>27791</td>\n",
       "      <td>0.567</td>\n",
       "      <td>13</td>\n",
       "    </tr>\n",
       "  </tbody>\n",
       "</table>\n",
       "</div>"
      ],
      "text/plain": [
       "       scaffold  start      end    sites   snps  missing  samples\n",
       "0  concatenated      0  3187245  3187245  27791    0.567       13"
      ]
     },
     "execution_count": 8,
     "metadata": {},
     "output_type": "execute_result"
    }
   ],
   "source": [
    "# select a scaffold idx, start, and end positions\n",
    "T_denovo = ipa.window_extracter(\n",
    "    data = data,\n",
    "    name=\"TW.SCh_denovo_CR\",\n",
    "    workdir=OUTDIR,\n",
    "    scaffold_idxs=range(16336),\n",
    "    mincov=2,\n",
    "    imap=imap,\n",
    "    minmap= {i: 0 for i in imap}, #half of each key in imap dictionary,\n",
    "    consensus_reduce=True,\n",
    ")\n",
    "\n",
    "#write output to file\n",
    "T_denovo.run(force=True)\n",
    "# show stats of the window\n",
    "T_denovo.stats"
   ]
  },
  {
   "cell_type": "code",
   "execution_count": 9,
   "metadata": {},
   "outputs": [
    {
     "name": "stdout",
     "output_type": "stream",
     "text": [
      "/rigel/home/slh2181/miniconda3/bin/raxmlHPC-PTHREADS-AVX2 -f a -T 24 -m GTRGAMMA -n TaiwanCh-denovo_CR -w /rigel/dsi/users/slh2181/Pmontana/Analysis/Taiwan -s /rigel/dsi/users/slh2181/Pmontana/Analysis/Taiwan/TW.SCh_denovo_CR.phy -p 54321 -N 100 -x 12345\n",
      "job TaiwanCh-denovo_CR finished successfully\n"
     ]
    }
   ],
   "source": [
    "# init raxml object with input data and (optional) parameter options\n",
    "rax = ipa.raxml(data=T_denovo.outfile, T=24, N=100, m = \"GTRGAMMA\", name=\"TaiwanCh-denovo_CR\",\n",
    "               workdir=\"/rigel/dsi/users/slh2181/Pmontana/Analysis/Taiwan\")\n",
    "\n",
    "# print the raxml command string for prosperity\n",
    "print(rax.command)\n",
    "\n",
    "# run the command, (options: block until finishes; overwrite existing)\n",
    "rax.run(block=True, force=True)"
   ]
  },
  {
   "cell_type": "code",
   "execution_count": 19,
   "metadata": {},
   "outputs": [
    {
     "data": {
      "text/plain": [
       "(<toyplot.canvas.Canvas at 0x2aab0c8bc690>,\n",
       " <toyplot.coordinates.Cartesian at 0x2aab0c7d4bd0>,\n",
       " <toytree.Render.ToytreeMark at 0x2aab0c8d2790>)"
      ]
     },
     "execution_count": 19,
     "metadata": {},
     "output_type": "execute_result"
    },
    {
     "data": {
      "text/html": [
       "<div class=\"toyplot\" id=\"t8f944581b1b14a18b3d71e26212b9aa6\" style=\"text-align:center\"><svg class=\"toyplot-canvas-Canvas\" height=\"275.0px\" id=\"t8e6ad30332d84343acc7e503ce502669\" preserveAspectRatio=\"xMidYMid meet\" style=\"background-color:transparent;border-color:#292724;border-style:none;border-width:1.0;fill:rgb(16.1%,15.3%,14.1%);fill-opacity:1.0;font-family:Helvetica;font-size:12px;opacity:1.0;stroke:rgb(16.1%,15.3%,14.1%);stroke-opacity:1.0;stroke-width:1.0\" viewBox=\"0 0 275.0 275.0\" width=\"275.0px\" xmlns=\"http://www.w3.org/2000/svg\" xmlns:toyplot=\"http://www.sandia.gov/toyplot\" xmlns:xlink=\"http://www.w3.org/1999/xlink\"><g class=\"toyplot-coordinates-Cartesian\" id=\"te65765de4e4840db8be8fc826ce9527d\"><clipPath id=\"t2629ae3d181345fc8a52a79a438dad51\"><rect height=\"215.0\" width=\"215.0\" x=\"30.0\" y=\"30.0\"></rect></clipPath><g clip-path=\"url(#t2629ae3d181345fc8a52a79a438dad51)\"><g class=\"toytree-mark-Toytree\" id=\"td209e45964c84291a27a426742b2d623\"><g class=\"toytree-Edges\" style=\"fill:none;stroke:rgb(14.9%,14.9%,14.9%);stroke-linecap:round;stroke-opacity:1;stroke-width:2\"><path d=\"M 50.0 116.1 L 50.0 73.3 L 117.3 73.3\" id=\"24,23\"></path><path d=\"M 50.0 116.1 L 50.0 158.9 L 117.3 158.9\" id=\"24,22\"></path><path d=\"M 117.3 73.3 L 117.3 85.2 L 125.7 85.2\" id=\"23,21\"></path><path d=\"M 117.3 158.9 L 117.3 134.3 L 130.7 134.3\" id=\"22,20\"></path><path d=\"M 117.3 158.9 L 117.3 183.4 L 126.1 183.4\" id=\"22,19\"></path><path d=\"M 125.7 85.2 L 125.7 96.3 L 134.3 96.3\" id=\"21,18\"></path><path d=\"M 130.7 134.3 L 130.7 143.8 L 139.6 143.8\" id=\"20,17\"></path><path d=\"M 126.1 183.4 L 126.1 169.2 L 134.0 169.2\" id=\"19,16\"></path><path d=\"M 126.1 183.4 L 126.1 197.7 L 132.5 197.7\" id=\"19,15\"></path><path d=\"M 134.3 96.3 L 134.3 105.8 L 143.5 105.8\" id=\"18,14\"></path><path d=\"M 132.5 197.7 L 132.5 207.2 L 140.2 207.2\" id=\"15,13\"></path><path d=\"M 117.3 73.3 L 117.3 61.5 L 148.4 61.5\" id=\"23,12\"></path><path d=\"M 125.7 85.2 L 125.7 74.1 L 155.3 74.1\" id=\"21,11\"></path><path d=\"M 134.3 96.3 L 134.3 86.8 L 162.6 86.8\" id=\"18,10\"></path><path d=\"M 143.5 105.8 L 143.5 99.5 L 170.9 99.5\" id=\"14,9\"></path><path d=\"M 143.5 105.8 L 143.5 112.2 L 173.2 112.2\" id=\"14,8\"></path><path d=\"M 130.7 134.3 L 130.7 124.8 L 167.0 124.8\" id=\"20,7\"></path><path d=\"M 139.6 143.8 L 139.6 137.5 L 171.7 137.5\" id=\"17,6\"></path><path d=\"M 139.6 143.8 L 139.6 150.2 L 174.3 150.2\" id=\"17,5\"></path><path d=\"M 134.0 169.2 L 134.0 162.8 L 176.8 162.8\" id=\"16,4\"></path><path d=\"M 134.0 169.2 L 134.0 175.5 L 174.1 175.5\" id=\"16,3\"></path><path d=\"M 132.5 197.7 L 132.5 188.2 L 174.7 188.2\" id=\"15,2\"></path><path d=\"M 140.2 207.2 L 140.2 200.9 L 180.4 200.9\" id=\"13,1\"></path><path d=\"M 140.2 207.2 L 140.2 213.5 L 177.0 213.5\" id=\"13,0\"></path></g><g class=\"toytree-Nodes\" style=\"fill:rgb(100%,100%,100%);fill-opacity:1.0;stroke:rgb(0%,0%,0%);stroke-opacity:1.0;stroke-width:1\"><g id=\"node-0\" transform=\"translate(176.979,213.530)\"><circle r=\"0.0\"></circle></g><g id=\"node-1\" transform=\"translate(180.371,200.859)\"><circle r=\"0.0\"></circle></g><g id=\"node-2\" transform=\"translate(174.679,188.187)\"><circle r=\"0.0\"></circle></g><g id=\"node-3\" transform=\"translate(174.077,175.515)\"><circle r=\"0.0\"></circle></g><g id=\"node-4\" transform=\"translate(176.801,162.843)\"><circle r=\"0.0\"></circle></g><g id=\"node-5\" transform=\"translate(174.293,150.172)\"><circle r=\"0.0\"></circle></g><g id=\"node-6\" transform=\"translate(171.734,137.500)\"><circle r=\"0.0\"></circle></g><g id=\"node-7\" transform=\"translate(167.020,124.828)\"><circle r=\"0.0\"></circle></g><g id=\"node-8\" transform=\"translate(173.244,112.157)\"><circle r=\"0.0\"></circle></g><g id=\"node-9\" transform=\"translate(170.895,99.485)\"><circle r=\"0.0\"></circle></g><g id=\"node-10\" transform=\"translate(162.565,86.813)\"><circle r=\"0.0\"></circle></g><g id=\"node-11\" transform=\"translate(155.269,74.141)\"><circle r=\"0.0\"></circle></g><g id=\"node-12\" transform=\"translate(148.435,61.470)\"><circle r=\"0.0\"></circle></g><g id=\"node-13\" transform=\"translate(140.241,207.194)\"><circle r=\"9.0\"></circle></g><g id=\"node-14\" transform=\"translate(143.484,105.821)\"><circle r=\"9.0\"></circle></g><g id=\"node-15\" transform=\"translate(132.483,197.691)\"><circle r=\"9.0\"></circle></g><g id=\"node-16\" transform=\"translate(133.997,169.179)\"><circle r=\"9.0\"></circle></g><g id=\"node-17\" transform=\"translate(139.635,143.836)\"><circle r=\"9.0\"></circle></g><g id=\"node-18\" transform=\"translate(134.283,96.317)\"><circle r=\"9.0\"></circle></g><g id=\"node-19\" transform=\"translate(126.136,183.435)\"><circle r=\"9.0\"></circle></g><g id=\"node-20\" transform=\"translate(130.673,134.332)\"><circle r=\"9.0\"></circle></g><g id=\"node-21\" transform=\"translate(125.701,85.229)\"><circle r=\"9.0\"></circle></g><g id=\"node-22\" transform=\"translate(117.279,158.884)\"><circle r=\"9.0\"></circle></g><g id=\"node-23\" transform=\"translate(117.279,73.349)\"><circle r=\"9.0\"></circle></g><g id=\"node-24\" transform=\"translate(50.000,116.116)\"><circle r=\"0.0\"></circle></g></g><g class=\"toytree-NodeLabels\" style=\"fill:rgb(14.9%,14.9%,14.9%);fill-opacity:1.0;font-size:10px;stroke:none\"><g transform=\"translate(134.68,209.75)\"><text>62</text></g><g transform=\"translate(135.14,108.38)\"><text>100</text></g><g transform=\"translate(126.92,200.25)\"><text>79</text></g><g transform=\"translate(128.44,171.73)\"><text>80</text></g><g transform=\"translate(134.08,146.39)\"><text>92</text></g><g transform=\"translate(125.94,98.87)\"><text>100</text></g><g transform=\"translate(117.80,185.99)\"><text>100</text></g><g transform=\"translate(122.33,136.89)\"><text>100</text></g><g transform=\"translate(120.14,87.78)\"><text>78</text></g><g transform=\"translate(108.94,161.44)\"><text>100</text></g><g transform=\"translate(108.94,75.90)\"><text>100</text></g></g><g class=\"toytree-TipLabels\" style=\"fill:rgb(14.9%,14.9%,14.9%);fill-opacity:1.0;font-family:helvetica;font-size:12px;font-weight:normal;stroke:none;white-space:pre\"><g transform=\"translate(176.98,213.53)rotate(0)\"><text style=\"fill:rgb(50.2%,0%,50.2%);fill-opacity:1.0\" x=\"15.00\" y=\"3.07\">KGU1</text></g><g transform=\"translate(180.37,200.86)rotate(0)\"><text style=\"fill:rgb(100%,54.9%,0%);fill-opacity:1.0\" x=\"15.00\" y=\"3.07\">KGD3</text></g><g transform=\"translate(174.68,188.19)rotate(0)\"><text style=\"fill:rgb(100%,0%,100%);fill-opacity:1.0\" x=\"15.00\" y=\"3.07\">KHN7</text></g><g transform=\"translate(174.08,175.52)rotate(0)\"><text style=\"fill:rgb(100%,84.3%,0%);fill-opacity:1.0\" x=\"15.00\" y=\"3.07\">KGD4</text></g><g transform=\"translate(176.80,162.84)rotate(0)\"><text style=\"fill:rgb(64.7%,16.5%,16.5%);fill-opacity:1.0\" x=\"15.00\" y=\"3.07\">KFU7</text></g><g transform=\"translate(174.29,150.17)rotate(0)\"><text style=\"fill:rgb(0%,0%,50.2%);fill-opacity:1.0\" x=\"15.00\" y=\"3.07\">KTW1</text></g><g transform=\"translate(171.73,137.50)rotate(0)\"><text style=\"fill:rgb(0%,74.9%,100%);fill-opacity:1.0\" x=\"15.00\" y=\"3.07\">KTW6</text></g><g transform=\"translate(167.02,124.83)rotate(0)\"><text style=\"fill:rgb(39.2%,58.4%,92.9%);fill-opacity:1.0\" x=\"15.00\" y=\"3.07\">KTW4</text></g><g transform=\"translate(173.24,112.16)rotate(0)\"><text style=\"fill:rgb(95.7%,64.3%,37.6%);fill-opacity:1.0\" x=\"15.00\" y=\"3.07\">KGD5</text></g><g transform=\"translate(170.90,99.48)rotate(0)\"><text style=\"fill:rgb(78%,8.24%,52.2%);fill-opacity:1.0\" x=\"15.00\" y=\"3.07\">KHN11</text></g><g transform=\"translate(162.57,86.81)rotate(0)\"><text style=\"fill:rgb(100%,0%,0%);fill-opacity:1.0\" x=\"15.00\" y=\"3.07\">KHN5</text></g><g transform=\"translate(155.27,74.14)rotate(0)\"><text style=\"fill:rgb(100%,7.84%,57.6%);fill-opacity:1.0\" x=\"15.00\" y=\"3.07\">KHN9</text></g><g transform=\"translate(148.43,61.47)rotate(0)\"><text style=\"fill:rgb(93.3%,51%,93.3%);fill-opacity:1.0\" x=\"15.00\" y=\"3.07\">KHN10</text></g></g></g></g></g></svg><div class=\"toyplot-behavior\"><script>(function()\n",
       "{\n",
       "var modules={};\n",
       "})();</script></div></div>"
      ]
     },
     "metadata": {},
     "output_type": "display_data"
    }
   ],
   "source": [
    "# plot the tree for this genome window\n",
    "tre = toytree.tree(rax.trees.bipartitions)\n",
    "#tre = toytree.tree(\"/rigel/dsi/users/slh2181/Pmontana/Analysis/Taiwan/RAxML_bipartitions.TW.SCh_denovo3\")\n",
    "rtre = tre.root([\"KGD5\",\"KHN11\",\"KHN5\",\"KHN9\",\"KHN10\"])\n",
    "\n",
    "colorlist = [\"navy\" if \"KTW1\" in tip else \n",
    "             \"cornflowerblue\" if \"KTW4\" in tip else\n",
    "             \"deepskyblue\" if \"KTW6\" in tip else\n",
    "             \"brown\" if \"KFU7\" in tip else\n",
    "             \"darkorange\" if \"KGD3\" in tip else\n",
    "             \"gold\" if \"KGD4\" in tip else\n",
    "             \"sandybrown\" if \"KGD5\" in tip else\n",
    "             \"purple\" if \"KGU1\" in tip else\n",
    "             \"red\" if \"KHN5\" in tip else\n",
    "             \"deeppink\" if \"KHN9\" in tip else\n",
    "             \"magenta\" if \"KHN7\" in tip else\n",
    "             \"violet\" if \"KHN10\" in tip else\n",
    "             \"mediumvioletred\" for tip in rtre.get_tip_labels()]\n",
    "\n",
    "rtre.draw(node_labels=\"support\",\n",
    "                                                            #tip_labels_align=True,              \n",
    "                          node_labels_style={\"font-size\": \"10px\"},\n",
    "                        node_sizes=18,\n",
    "                        node_style={\n",
    "                                \"fill\": \"white\",\n",
    "                                \"stroke\": \"black\",\n",
    "                        },\n",
    "                        tip_labels_colors=colorlist,\n",
    "                        tip_labels_style={\"font-size\":\"12px\"})"
   ]
  },
  {
   "cell_type": "code",
   "execution_count": 20,
   "metadata": {},
   "outputs": [
    {
     "data": {
      "text/plain": [
       "'((KHN10:0.00339739,(KHN9:0.0032243,(KHN5:0.00308407,(KHN11:0.00298904,KGD5:0.00324515)100:0.00100339)100:0.000935809)78:0.000918366)100:0.00733655,((KTW4:0.00396346,(KTW6:0.00350032,KTW1:0.00377938)92:0.000977231)100:0.00146057,((KFU7:0.00466767,KGD4:0.00437057)80:0.000857203,(KHN7:0.00460131,(KGD3:0.00437608,KGU1:0.00400615)62:0.000845919)79:0.000692173)100:0.000965772)100:0.00733655);'"
      ]
     },
     "execution_count": 20,
     "metadata": {},
     "output_type": "execute_result"
    }
   ],
   "source": [
    "rtre.newick"
   ]
  }
 ],
 "metadata": {
  "kernelspec": {
   "display_name": "Python 3",
   "language": "python",
   "name": "python3"
  },
  "language_info": {
   "codemirror_mode": {
    "name": "ipython",
    "version": 3
   },
   "file_extension": ".py",
   "mimetype": "text/x-python",
   "name": "python",
   "nbconvert_exporter": "python",
   "pygments_lexer": "ipython3",
   "version": "3.7.6"
  }
 },
 "nbformat": 4,
 "nbformat_minor": 2
}
